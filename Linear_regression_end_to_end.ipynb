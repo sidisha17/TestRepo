{
  "cells": [
    {
      "cell_type": "markdown",
      "metadata": {
        "id": "BXFcHkIpsWHN"
      },
      "source": [
        "## **Linear Regression end to end** ##"
      ]
    },
    {
      "cell_type": "code",
      "execution_count": 1,
      "metadata": {
        "id": "J9vC2xWrq1sD"
      },
      "outputs": [],
      "source": [
        "from IPython.display import display, Math, Latex\n",
        "\n",
        "import numpy as np\n",
        "\n",
        "import matplotlib.pyplot as plt\n",
        "import seaborn as sns\n",
        "\n",
        "from sklearn.model_selection import train_test_split\n",
        "\n",
        "\n",
        "%matplotlib inline\n"
      ]
    },
    {
      "cell_type": "code",
      "execution_count": 49,
      "metadata": {
        "id": "_97OyKAmq2ZN"
      },
      "outputs": [],
      "source": [
        "class LinReg(object):\n",
        "\n",
        "    def __init__(self):\n",
        "        self.t0 = 200\n",
        "        self.t1 = 100000\n",
        "\n",
        "    def predict(self, X:np.ndarray)->np.ndarray:\n",
        "        assert X.shape[-1]==self.w.shape[0]\n",
        "        return X@self.w\n",
        "\n",
        "\n",
        "    def loss (self, X:np.ndarray,y:np.ndarray) -> float:\n",
        "        e = self.predict(X) - y\n",
        "        # print(e)\n",
        "        return 0.5*(np.transpose(e)@e)\n",
        "\n",
        "    def rmse( self, X:np.ndarray, y:np.ndarray)->float:\n",
        "        return np.sqrt((2/X.shape[0]) * self.loss(X,y))       #check def?\n",
        "\n",
        "    def fit(self, X:np.ndarray, y:np.ndarray) ->np.ndarray:\n",
        "        self.w = np.linalg.pinv(X)@y\n",
        "        return self.w\n",
        "\n",
        "    \n",
        "    def calc_grad(self, X:np.ndarray, y:np.ndarray) -> np.ndarray:\n",
        "        return np.transpose(X)@(self.predict(X)-y)\n",
        "\n",
        "    def weightupdate(self, grad:np.ndarray , lr:float)->np.ndarray:\n",
        "        return (self.w - lr*grad)\n",
        "    \n",
        "    def learning_schedule(self, t):\n",
        "        return self.t0/(t+self.t1)\n",
        "\n",
        "    def gradient_descent(self, X:np.ndarray,y:np.ndarray, lr:float, num_epochs:int)->np.ndarray:\n",
        "        self.w_all = []\n",
        "        self.err_all = []\n",
        "\n",
        "        self.w = np.zeros((X.shape[1]))\n",
        "\n",
        "        # print()\n",
        "\n",
        "        for i in np.arange(0,num_epochs):\n",
        "            self.w_all.append(self.w)\n",
        "\n",
        "            self.err_all.append(self.loss(X,y))\n",
        "\n",
        "            djdw = self.calc_grad(X,y)\n",
        "\n",
        "            # if i%100 == 0:\n",
        "            # print(\"Iteration: %d, loss: %4.2f\" %(i, err_all[-1]))\n",
        "\n",
        "            self.w = self.weightupdate(djdw,lr)\n",
        "\n",
        "        return self.w, self.err_all, self.w_all\n",
        "\n",
        "    def mini_batch_gd(self, X:np.ndarray, y:np.ndarray, num_inter:int, minibatch_size:int):\n",
        "        self.w_all = []\n",
        "        self.err_all = []\n",
        "\n",
        "        self.w = np.zeros(X.shape[1])   #num of feataures\n",
        "        t = 0\n",
        "        # print(\"step 1\")\n",
        "        for epoch in range(num_inter):\n",
        "\n",
        "            shuffled_indices = np.random.permutation(X.shape[0])\n",
        "            X_shuffled = X[shuffled_indices]\n",
        "            y_shuffled = y[shuffled_indices]\n",
        "            for i in range(0,X.shape[0], minibatch_size):\n",
        "                t+=1\n",
        "                # print(t)\n",
        "                xi = X_shuffled[i:i+minibatch_size]\n",
        "                yi = y_shuffled[i:i+minibatch_size]\n",
        "                self.err_all.append(self.loss(xi,yi))\n",
        "\n",
        "                gradients = 2/minibatch_size * self.calc_grad(xi,yi)   #why?\n",
        "                # print()\n",
        "                self.w = self.weightupdate(gradients, self.learning_schedule(t))\n",
        "                self.w_all.append(self.w)\n",
        "\n",
        "        return self.w\n",
        "\n",
        "    def sgd(self,X:np.ndarray, y:np.ndarray, num_epochs:int)->np.ndarray:\n",
        "        self.w_all = []\n",
        "        self.err_all = []\n",
        "\n",
        "        self.w = np.zeros(X.shape[1])   #num of feataures\n",
        "        # t = 0\n",
        "\n",
        "        for epoch in range(num_epochs):\n",
        "            for i in range((X.shape[1])):\n",
        "                random_index = np.random.randint(X.shape[0])\n",
        "                xi = X[random_index:random_index+1]\n",
        "                yi = y[random_index:random_index+1]\n",
        "\n",
        "                self.err_all.append(self.loss(xi,yi))\n",
        "                gradients = self.calc_grad(xi,yi) \n",
        "                lr = self.learning_schedule(epoch * X.shape[0] + i)  #dynamic learning rate\n",
        "\n",
        "                self.w = self.weightupdate(gradients, lr)\n",
        "                self.w_all.append(self.w)\n",
        "\n",
        "        return self.w"
      ]
    },
    {
      "cell_type": "code",
      "execution_count": 26,
      "metadata": {
        "id": "ovxBu36Uq5_T"
      },
      "outputs": [],
      "source": [
        "def generate_data(n):\n",
        "    w1 = 3\n",
        "    w0 = 4\n",
        "    X = 10 * np.random.rand(n,)\n",
        "    y = w0+w1*X+np.random.rand(n,)\n",
        "    return X,y\n",
        "\n",
        "def add_dummy(x):\n",
        "  return np.column_stack((np.ones(x.shape[0]),x))  #input - tuple\n",
        "\n",
        "def preprocess(X,y):\n",
        "    X_dummy = add_dummy(X)\n",
        "    return  train_test_split(X_dummy,y,test_size = 0.2, random_state = 42)"
      ]
    },
    {
      "cell_type": "code",
      "execution_count": 27,
      "metadata": {
        "id": "m3QksiTNq-HW"
      },
      "outputs": [],
      "source": [
        "X,y = generate_data(100)\n",
        "X_train, X_test, y_train, y_test = preprocess(X,y)"
      ]
    },
    {
      "cell_type": "code",
      "execution_count": 50,
      "metadata": {
        "colab": {
          "base_uri": "https://localhost:8080/"
        },
        "id": "LXcKNTRfrABP",
        "outputId": "9d53d99f-c0ae-48fd-abaf-0652ed099a7d"
      },
      "outputs": [
        {
          "name": "stdout",
          "output_type": "stream",
          "text": [
            "Weight vector:  [4.30868690e-03 4.00335228e+01 1.03086790e+01 5.19091277e+01\n",
            " 6.29286567e+00 4.11625781e+01 2.84422862e+01 8.89543306e+01\n",
            " 9.75752481e+00 1.54723974e+01 4.49980952e+01]\n"
          ]
        }
      ],
      "source": [
        "lin_reg = LinReg()\n",
        "lin_reg.fit(X_train,y_train)\n",
        "\n",
        "print(\"Weight vector: \", lin_reg.w)"
      ]
    },
    {
      "cell_type": "code",
      "execution_count": 33,
      "metadata": {
        "colab": {
          "base_uri": "https://localhost:8080/"
        },
        "id": "0bJGZPt4rCEM",
        "outputId": "f0ed4980-9bbd-4326-ad4f-faac927ddd37"
      },
      "outputs": [
        {
          "name": "stdout",
          "output_type": "stream",
          "text": [
            "\n",
            "Weight vector:  [3.97353508 3.08100241]\n"
          ]
        }
      ],
      "source": [
        "lin_reg.gradient_descent(X_train,y_train,  lr = 1e-4, num_epochs =1000)\n",
        "\n",
        "print(\"Weight vector: \", lin_reg.w)"
      ]
    },
    {
      "cell_type": "code",
      "execution_count": 34,
      "metadata": {
        "colab": {
          "base_uri": "https://localhost:8080/"
        },
        "id": "CHxj-94IrEoh",
        "outputId": "b2066a6e-df39-48d1-d61c-b819fa1bf26d"
      },
      "outputs": [
        {
          "name": "stdout",
          "output_type": "stream",
          "text": [
            "Weight vector:  [4.49551481 3.00563486]\n"
          ]
        }
      ],
      "source": [
        "lin_reg.mini_batch_gd(X_train, y_train, 1000, 14)\n",
        "\n",
        "print(\"Weight vector: \", lin_reg.w)"
      ]
    },
    {
      "cell_type": "code",
      "execution_count": 36,
      "metadata": {
        "colab": {
          "base_uri": "https://localhost:8080/"
        },
        "id": "CWK1rtdRrGiu",
        "outputId": "caaf6d53-baaf-484f-e1e5-b0a4f98900f8"
      },
      "outputs": [
        {
          "name": "stdout",
          "output_type": "stream",
          "text": [
            "Weight vector:  [4.25802772 3.03870169]\n"
          ]
        }
      ],
      "source": [
        "lin_reg.sgd(X_train, y_train, 10000)\n",
        "print(\"Weight vector: \", lin_reg.w)"
      ]
    },
    {
      "cell_type": "code",
      "execution_count": 37,
      "metadata": {
        "id": "MnaOZ7Znsd0p"
      },
      "outputs": [],
      "source": [
        "def plot_learning_curve(err_all):\n",
        "    plt.plot(err_all)\n",
        "    plt.xlabel(\"iter#\")\n",
        "    plt.ylabel(\"loss\")"
      ]
    },
    {
      "cell_type": "markdown",
      "metadata": {
        "id": "RGS8Hr4Us4bq"
      },
      "source": [
        "Lin Reg on multiple features and single label"
      ]
    },
    {
      "cell_type": "code",
      "execution_count": 52,
      "metadata": {
        "id": "Mzl2r70asysV"
      },
      "outputs": [],
      "source": [
        "from sklearn.datasets import make_regression\n",
        "X,y,coef = make_regression(n_samples = 200, n_features = 10, n_informative = 10, n_targets = 1, shuffle = True, coef = True,\n",
        "                                noise = 0.5, random_state = 0)   # same as random_seed"
      ]
    },
    {
      "cell_type": "code",
      "execution_count": 53,
      "metadata": {
        "colab": {
          "base_uri": "https://localhost:8080/"
        },
        "id": "Hib8J8i1teRP",
        "outputId": "87932a31-d26d-4b84-aa6c-c9e0a992ff14"
      },
      "outputs": [
        {
          "name": "stdout",
          "output_type": "stream",
          "text": [
            "Shape of feature:  (200, 10)\n",
            "Shape of label:  (200,)\n",
            "Shape of coef vector:  (10,)\n"
          ]
        }
      ],
      "source": [
        "print (\"Shape of feature: \", X.shape)\n",
        "print(\"Shape of label: \", y.shape)\n",
        "print(\"Shape of coef vector: \", coef.shape)"
      ]
    },
    {
      "cell_type": "code",
      "execution_count": 54,
      "metadata": {
        "id": "hraN9q0PtkHJ"
      },
      "outputs": [],
      "source": [
        "X_train, X_test, y_train, y_test = preprocess(X,y)"
      ]
    },
    {
      "cell_type": "code",
      "execution_count": 55,
      "metadata": {
        "colab": {
          "base_uri": "https://localhost:8080/"
        },
        "id": "s_GThpnquZmS",
        "outputId": "1823187e-8594-4e82-d8de-53edd5ce1999"
      },
      "outputs": [
        {
          "name": "stdout",
          "output_type": "stream",
          "text": [
            "Weight: normal:  [4.30868690e-03 4.00335228e+01 1.03086790e+01 5.19091277e+01\n",
            " 6.29286567e+00 4.11625781e+01 2.84422862e+01 8.89543306e+01\n",
            " 9.75752481e+00 1.54723974e+01 4.49980952e+01]\n"
          ]
        }
      ],
      "source": [
        "lin_reg.fit(X_train, y_train)\n",
        "print(\"Weight: normal: \", lin_reg.w)"
      ]
    },
    {
      "cell_type": "code",
      "execution_count": 56,
      "metadata": {
        "id": "-Ni66qfBugPg"
      },
      "outputs": [],
      "source": [
        "# check if coefficients are close\n",
        "np.testing.assert_almost_equal(coef, lin_reg.w[1:], decimal = 0)"
      ]
    },
    {
      "cell_type": "code",
      "execution_count": 58,
      "metadata": {
        "colab": {
          "base_uri": "https://localhost:8080/"
        },
        "id": "vsBWXfkpurI8",
        "outputId": "2e5ac5b6-3ddc-44ef-98e6-06e95d40e056"
      },
      "outputs": [
        {
          "name": "stdout",
          "output_type": "stream",
          "text": [
            "Weight:  [4.23513204e-03 4.00335497e+01 1.03081869e+01 5.19092201e+01\n",
            " 6.29241093e+00 4.11619488e+01 2.84422549e+01 8.89543222e+01\n",
            " 9.75811687e+00 1.54722408e+01 4.49977615e+01]\n"
          ]
        }
      ],
      "source": [
        "lin_reg.gradient_descent(X_train, y_train, lr = 1e-4, num_epochs= 1000)\n",
        "print(\"Weight: \", lin_reg.w)"
      ]
    },
    {
      "cell_type": "code",
      "execution_count": 59,
      "metadata": {
        "colab": {
          "base_uri": "https://localhost:8080/",
          "height": 290
        },
        "id": "7FA4BERMu6Wm",
        "outputId": "040b4afb-7177-4f29-9ece-059f20507f23"
      },
      "outputs": [
        {
          "data": {
            "image/png": "[encoded data removed]",
            "text/plain": [
              "<Figure size 432x288 with 1 Axes>"
            ]
          },
          "metadata": {
            "needs_background": "light"
          },
          "output_type": "display_data"
        }
      ],
      "source": [
        "plot_learning_curve(lin_reg.err_all)"
      ]
    },
    {
      "cell_type": "code",
      "execution_count": 62,
      "metadata": {
        "colab": {
          "base_uri": "https://localhost:8080/"
        },
        "id": "DInE6DyovEl0",
        "outputId": "66f20ef0-aac9-4b12-cfa5-32b3bd12f1c7"
      },
      "outputs": [
        {
          "data": {
            "text/plain": [
              "array([4.25832412e-03, 4.00335121e+01, 1.03087197e+01, 5.19091186e+01,\n",
              "       6.29291429e+00, 4.11625858e+01, 2.84422956e+01, 8.89543064e+01,\n",
              "       9.75750850e+00, 1.54724649e+01, 4.49981233e+01])"
            ]
          },
          "execution_count": 62,
          "metadata": {},
          "output_type": "execute_result"
        }
      ],
      "source": [
        "lin_reg.mini_batch_gd(X_train, y_train, num_inter=1000 , minibatch_size=16)"
      ]
    },
    {
      "cell_type": "code",
      "execution_count": 63,
      "metadata": {
        "colab": {
          "base_uri": "https://localhost:8080/",
          "height": 280
        },
        "id": "qLFB8FFqvtif",
        "outputId": "cc8fd000-1eda-4eb8-ab24-c6f94ca4aa09"
      },
      "outputs": [
        {
          "data": {
            "image/png": "[encoded data removed]",
            "text/plain": [
              "<Figure size 432x288 with 1 Axes>"
            ]
          },
          "metadata": {
            "needs_background": "light"
          },
          "output_type": "display_data"
        }
      ],
      "source": [
        "plot_learning_curve(lin_reg.err_all)"
      ]
    },
    {
      "cell_type": "code",
      "execution_count": 64,
      "metadata": {
        "colab": {
          "base_uri": "https://localhost:8080/"
        },
        "id": "mMzAW9vivzRM",
        "outputId": "3615644f-1024-4080-8b26-9550a29016c0"
      },
      "outputs": [
        {
          "data": {
            "text/plain": [
              "array([1.97280818e-03, 4.00321493e+01, 1.03180745e+01, 5.19075236e+01,\n",
              "       6.30051073e+00, 4.11503349e+01, 2.84362245e+01, 8.89415228e+01,\n",
              "       9.75465851e+00, 1.54688933e+01, 4.50000919e+01])"
            ]
          },
          "execution_count": 64,
          "metadata": {},
          "output_type": "execute_result"
        }
      ],
      "source": [
        "lin_reg.sgd(X_train, y_train, 1000)"
      ]
    },
    {
      "cell_type": "code",
      "execution_count": 65,
      "metadata": {
        "colab": {
          "base_uri": "https://localhost:8080/",
          "height": 279
        },
        "id": "-cPt7zCfv50n",
        "outputId": "04a6d354-b952-4cd1-b175-1f8450865180"
      },
      "outputs": [
        {
          "data": {
            "image/png": "[encoded data removed]",
            "text/plain": [
              "<Figure size 432x288 with 1 Axes>"
            ]
          },
          "metadata": {
            "needs_background": "light"
          },
          "output_type": "display_data"
        }
      ],
      "source": [
        "plot_learning_curve(lin_reg.err_all)"
      ]
    }
  ],
  "metadata": {
    "colab": {
      "name": "Linear_regression_end_to_end",
      "provenance": []
    },
    "kernelspec": {
      "display_name": "Python 3",
      "name": "python3"
    },
    "language_info": {
      "name": "python"
    }
  },
  "nbformat": 4,
  "nbformat_minor": 0
}
