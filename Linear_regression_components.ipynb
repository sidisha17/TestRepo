{
  "cells": [
    {
      "cell_type": "markdown",
      "metadata": {
        "id": "B7avkR0L9Sv8"
      },
      "source": [
        "### **Week 2**"
      ]
    },
    {
      "cell_type": "code",
      "execution_count": 1,
      "metadata": {
        "id": "jNFooViD-Fz6"
      },
      "outputs": [],
      "source": [
        "import numpy as np"
      ]
    },
    {
      "cell_type": "code",
      "execution_count": 2,
      "metadata": {
        "colab": {
          "base_uri": "https://localhost:8080/"
        },
        "id": "mULOyIu4BSba",
        "outputId": "a8a951ad-ecb5-4c86-f5a8-cf5bc89149ff"
      },
      "outputs": [
        {
          "name": "stdout",
          "output_type": "stream",
          "text": [
            "Requirement already satisfied: IPython in /usr/local/lib/python3.7/dist-packages (5.5.0)\n",
            "Requirement already satisfied: setuptools>=18.5 in /usr/local/lib/python3.7/dist-packages (from IPython) (57.4.0)\n",
            "Requirement already satisfied: traitlets>=4.2 in /usr/local/lib/python3.7/dist-packages (from IPython) (5.1.1)\n",
            "Requirement already satisfied: decorator in /usr/local/lib/python3.7/dist-packages (from IPython) (4.4.2)\n",
            "Requirement already satisfied: pexpect in /usr/local/lib/python3.7/dist-packages (from IPython) (4.8.0)\n",
            "Requirement already satisfied: simplegeneric>0.8 in /usr/local/lib/python3.7/dist-packages (from IPython) (0.8.1)\n",
            "Requirement already satisfied: pygments in /usr/local/lib/python3.7/dist-packages (from IPython) (2.6.1)\n",
            "Requirement already satisfied: pickleshare in /usr/local/lib/python3.7/dist-packages (from IPython) (0.7.5)\n",
            "Requirement already satisfied: prompt-toolkit<2.0.0,>=1.0.4 in /usr/local/lib/python3.7/dist-packages (from IPython) (1.0.18)\n",
            "Requirement already satisfied: six>=1.9.0 in /usr/local/lib/python3.7/dist-packages (from prompt-toolkit<2.0.0,>=1.0.4->IPython) (1.15.0)\n",
            "Requirement already satisfied: wcwidth in /usr/local/lib/python3.7/dist-packages (from prompt-toolkit<2.0.0,>=1.0.4->IPython) (0.2.5)\n",
            "Requirement already satisfied: ptyprocess>=0.5 in /usr/local/lib/python3.7/dist-packages (from pexpect->IPython) (0.7.0)\n"
          ]
        }
      ],
      "source": [
        "!pip install IPython"
      ]
    },
    {
      "cell_type": "markdown",
      "metadata": {
        "id": "gmSsFjeoBx7n"
      },
      "source": [
        "## **Training** Data"
      ]
    },
    {
      "cell_type": "code",
      "execution_count": 3,
      "metadata": {
        "id": "D3AhGzJDBznp"
      },
      "outputs": [],
      "source": [
        "w1 = 3\n",
        "w0 = 4\n",
        "n = 100\n",
        "\n",
        "X = 10 * np.random.rand(n,)\n",
        "\n",
        "y = w0+w1*X+np.random.rand(n,)"
      ]
    },
    {
      "cell_type": "code",
      "execution_count": 4,
      "metadata": {
        "colab": {
          "base_uri": "https://localhost:8080/"
        },
        "id": "rUMLT07bCIO5",
        "outputId": "c3411569-4c81-4002-baba-123bbfedb860"
      },
      "outputs": [
        {
          "name": "stdout",
          "output_type": "stream",
          "text": [
            "(100,) (100,)\n"
          ]
        }
      ],
      "source": [
        "print(X.shape,y.shape)"
      ]
    },
    {
      "cell_type": "code",
      "execution_count": 5,
      "metadata": {
        "id": "u9npHjxfCISJ"
      },
      "outputs": [],
      "source": [
        "from sklearn.model_selection import train_test_split\n",
        "\n",
        "X_train, X_test, y_train, y_test = train_test_split(X,y,test_size = 0.2, random_state = 42)"
      ]
    },
    {
      "cell_type": "code",
      "execution_count": 6,
      "metadata": {
        "colab": {
          "base_uri": "https://localhost:8080/"
        },
        "id": "PepUDKqcCIVB",
        "outputId": "ad9f13ff-a656-4c16-910b-7395b68b3f7c"
      },
      "outputs": [
        {
          "name": "stdout",
          "output_type": "stream",
          "text": [
            "(80,) (80,) (20,) (20,)\n"
          ]
        }
      ],
      "source": [
        "print(X_train.shape, y_train.shape, X_test.shape, y_test.shape)"
      ]
    },
    {
      "cell_type": "code",
      "execution_count": 7,
      "metadata": {
        "colab": {
          "base_uri": "https://localhost:8080/"
        },
        "id": "wxp7utvbCIXh",
        "outputId": "43d5c0c1-c617-42ae-ec37-fe44317c5e82"
      },
      "outputs": [
        {
          "data": {
            "text/plain": [
              "array([7.06261569, 1.29247871, 5.49626977, 1.82387345, 5.81376557])"
            ]
          },
          "execution_count": 7,
          "metadata": {},
          "output_type": "execute_result"
        }
      ],
      "source": [
        "X_train[:5]"
      ]
    },
    {
      "cell_type": "code",
      "execution_count": 8,
      "metadata": {
        "colab": {
          "base_uri": "https://localhost:8080/"
        },
        "id": "L4JBqdT2CIaN",
        "outputId": "68c317d3-72e2-4ebf-a103-a006f4989ed8"
      },
      "outputs": [
        {
          "data": {
            "text/plain": [
              "array([25.6890094 ,  8.49726286, 20.8717763 , 10.33970657, 21.99058169])"
            ]
          },
          "execution_count": 8,
          "metadata": {},
          "output_type": "execute_result"
        }
      ],
      "source": [
        "y_train[:5]"
      ]
    },
    {
      "cell_type": "code",
      "execution_count": 11,
      "metadata": {
        "colab": {
          "base_uri": "https://localhost:8080/",
          "height": 535
        },
        "id": "iQMungMQCIcq",
        "outputId": "64b5c704-f258-4182-ae9a-6ebd653441cb"
      },
      "outputs": [
        {
          "data": {
            "image/png": "[encoded data removed]",
            "text/plain": [
              "<Figure size 576x576 with 1 Axes>"
            ]
          },
          "metadata": {},
          "output_type": "display_data"
        }
      ],
      "source": [
        "sns.set_style(\"white\")\n",
        "f = plt.figure(figsize = (8,8))\n",
        "sns.set_context(\"notebook\", font_scale=1.5, rc={\"lines.linewidth\":2.5})\n",
        "\n",
        "plt.plot(X_train,y_train,\"b.\")\n",
        "plt.title(\"Data points\")\n",
        "plt.grid(True)\n",
        "plt.xlabel(\"$x_1$\", fontsize = 18)\n",
        "plt.ylabel(\"$y$\", fontsize = 18)\n",
        "plt.axis([0,10,0,40])\n",
        "\n",
        "plt.show()\n",
        "\n"
      ]
    },
    {
      "cell_type": "code",
      "execution_count": 16,
      "metadata": {
        "id": "0dgvZcsoCIfx"
      },
      "outputs": [],
      "source": [
        "def add_dummy(x):\n",
        "  return np.column_stack((np.ones(x.shape[0]),x))  #input - tuple"
      ]
    },
    {
      "cell_type": "code",
      "execution_count": 17,
      "metadata": {
        "id": "gamRQT34dudh"
      },
      "outputs": [],
      "source": [
        "np.column_stack?"
      ]
    },
    {
      "cell_type": "markdown",
      "metadata": {
        "id": "KWrpAlypeAih"
      },
      "source": [
        "Testing"
      ]
    },
    {
      "cell_type": "code",
      "execution_count": 18,
      "metadata": {
        "colab": {
          "base_uri": "https://localhost:8080/"
        },
        "id": "G6vHN4STDzDF",
        "outputId": "c6ed01df-3e74-44fb-cea5-3e77dcb32b80"
      },
      "outputs": [
        {
          "name": "stderr",
          "output_type": "stream",
          "text": [
            "test_dummy (__main__.TestDummy) ... ok\n",
            "\n",
            "----------------------------------------------------------------------\n",
            "Ran 1 test in 0.005s\n",
            "\n",
            "OK\n"
          ]
        },
        {
          "data": {
            "text/plain": [
              "<unittest.main.TestProgram at 0x7f9e624b2250>"
            ]
          },
          "execution_count": 18,
          "metadata": {},
          "output_type": "execute_result"
        }
      ],
      "source": [
        "import unittest\n",
        "\n",
        "class TestDummy(unittest.TestCase):\n",
        "  def test_dummy(self):\n",
        "    train_matrix = np.array([[3,2,5],[9,4,7]])\n",
        "    train_matrix_with_dummy = add_dummy(train_matrix)\n",
        "\n",
        "    self.assertEqual(train_matrix_with_dummy.shape,(2,4))\n",
        "\n",
        "    np.testing.assert_array_equal(train_matrix_with_dummy,np.array([[1,3,2,5],[1,9,4,7]]))\n",
        "\n",
        "unittest.main(argv=[''], defaultTest = 'TestDummy', verbosity  = 2, exit = False)\n",
        "\n",
        "\n"
      ]
    },
    {
      "cell_type": "code",
      "execution_count": 20,
      "metadata": {
        "colab": {
          "base_uri": "https://localhost:8080/"
        },
        "id": "htOn6AMODzGI",
        "outputId": "9daf671b-a938-4b5d-9e4a-974dae620e74"
      },
      "outputs": [
        {
          "data": {
            "text/plain": [
              "array([[1., 3., 4.],\n",
              "       [1., 9., 7.]])"
            ]
          },
          "execution_count": 20,
          "metadata": {},
          "output_type": "execute_result"
        }
      ],
      "source": [
        "add_dummy(np.array([[3,4],[9,7]]))"
      ]
    },
    {
      "cell_type": "code",
      "execution_count": 22,
      "metadata": {
        "colab": {
          "base_uri": "https://localhost:8080/"
        },
        "id": "PvHZ0Yh8DzIq",
        "outputId": "5f9d8dfd-d9d0-43fb-d8c8-10c71f62379f"
      },
      "outputs": [
        {
          "name": "stdout",
          "output_type": "stream",
          "text": [
            "Before adding dummy [7.06261569 1.29247871 5.49626977 1.82387345 5.81376557]\n",
            "After adding dummy\n",
            "[[1.         7.06261569]\n",
            " [1.         1.29247871]\n",
            " [1.         5.49626977]\n",
            " [1.         1.82387345]\n",
            " [1.         5.81376557]]\n"
          ]
        }
      ],
      "source": [
        "print(\"Before adding dummy\",X_train[:5])\n",
        "print(\"After adding dummy\")\n",
        "\n",
        "X_train_with_dummy = add_dummy(X_train)\n",
        "print(X_train_with_dummy[:5])"
      ]
    },
    {
      "cell_type": "markdown",
      "metadata": {
        "id": "OhkJaBRMfTg5"
      },
      "source": [
        "### **Model**"
      ]
    },
    {
      "cell_type": "code",
      "execution_count": 27,
      "metadata": {
        "id": "N0lsqGhbDzLh"
      },
      "outputs": [],
      "source": [
        "def predict(X,w):\n",
        "\n",
        "  assert X.shape[-1]==w.shape[0]\n",
        "  return X@w"
      ]
    },
    {
      "cell_type": "code",
      "execution_count": 31,
      "metadata": {
        "colab": {
          "base_uri": "https://localhost:8080/"
        },
        "id": "BT8fmAZ-DzQc",
        "outputId": "b77a144a-b23c-4ac3-88db-4fe25a3ab881"
      },
      "outputs": [
        {
          "name": "stderr",
          "output_type": "stream",
          "text": [
            "test_predict (__main__.TestPredict) ... ok\n",
            "\n",
            "----------------------------------------------------------------------\n",
            "Ran 1 test in 0.003s\n",
            "\n",
            "OK\n"
          ]
        },
        {
          "data": {
            "text/plain": [
              "<unittest.main.TestProgram at 0x7f9e6230a8d0>"
            ]
          },
          "execution_count": 31,
          "metadata": {},
          "output_type": "execute_result"
        }
      ],
      "source": [
        "import unittest\n",
        "class TestPredict(unittest.TestCase):\n",
        "\n",
        "  def test_predict(self):\n",
        "\n",
        "    train_matrix_0 = np.array([[3,2,5],[9,4,7]])\n",
        "    train_matrix = add_dummy(train_matrix_0)\n",
        "    weight_vector = np.array([1,1,1,1])\n",
        "    expected_label_vector = np.array([11,21])\n",
        "\n",
        "    predicted_label_vec = predict(train_matrix,weight_vector)\n",
        "\n",
        "    self.assertEqual(predicted_label_vec.shape, (2,))\n",
        "\n",
        "    np.testing.assert_array_equal(predicted_label_vec, expected_label_vector)\n",
        "\n",
        "unittest.main(argv = [''], defaultTest = \"TestPredict\", verbosity = 2, exit = False)"
      ]
    },
    {
      "cell_type": "code",
      "execution_count": 47,
      "metadata": {
        "id": "IzX4ItHQtXvV"
      },
      "outputs": [],
      "source": [
        "def generate_data(n):\n",
        "  w1 = 3\n",
        "  w0 = 4\n",
        "\n",
        "  X = 10 * np.random.rand(n,)\n",
        "\n",
        "  y = w0+w1*X+np.random.rand(n,)\n",
        "\n",
        "  return X,y"
      ]
    },
    {
      "cell_type": "code",
      "execution_count": 32,
      "metadata": {
        "id": "aLgm8pqBDzTq"
      },
      "outputs": [],
      "source": [
        "\n",
        "\n",
        "w1 = 3\n",
        "w0 = 4\n",
        "n = 100\n",
        "\n",
        "X = 10 * np.random.rand(n,)\n",
        "\n",
        "y = w0+w1*X+np.random.rand(n,)"
      ]
    },
    {
      "cell_type": "code",
      "execution_count": 33,
      "metadata": {
        "id": "TLijNYcep8F0"
      },
      "outputs": [],
      "source": [
        "X_dummy = add_dummy(X)"
      ]
    },
    {
      "cell_type": "code",
      "execution_count": 59,
      "metadata": {
        "id": "ynD3Td9M1OlP"
      },
      "outputs": [],
      "source": [
        "def preprocess(X,y):\n",
        "  X_dummy = add_dummy(X)\n",
        "  return  train_test_split(X_dummy,y,test_size = 0.2, random_state = 42)"
      ]
    },
    {
      "cell_type": "code",
      "execution_count": 34,
      "metadata": {
        "id": "9CE6R_gAqYzV"
      },
      "outputs": [],
      "source": [
        "from sklearn.model_selection import train_test_split\n",
        "\n",
        "X_train, X_test, y_train, y_test = train_test_split(X_dummy,y,test_size = 0.2, random_state = 42)"
      ]
    },
    {
      "cell_type": "code",
      "execution_count": 37,
      "metadata": {
        "colab": {
          "base_uri": "https://localhost:8080/"
        },
        "id": "yzNSwW-fpMZM",
        "outputId": "fa2974d2-dfc0-4b89-a346-17f37b87e005"
      },
      "outputs": [
        {
          "data": {
            "text/plain": [
              "array([0.65435013, 0.64375369])"
            ]
          },
          "execution_count": 37,
          "metadata": {},
          "output_type": "execute_result"
        }
      ],
      "source": [
        "w = np.random.rand(2,)\n",
        "w"
      ]
    },
    {
      "cell_type": "code",
      "execution_count": 38,
      "metadata": {
        "id": "Z7_nAuAmpMb-"
      },
      "outputs": [],
      "source": [
        "y_hat = predict(X_train, w)"
      ]
    },
    {
      "cell_type": "code",
      "execution_count": 39,
      "metadata": {
        "colab": {
          "base_uri": "https://localhost:8080/"
        },
        "id": "8XFWq48WpMfF",
        "outputId": "0a04a4dc-9f0c-45e7-9fe1-4e118eb0364e"
      },
      "outputs": [
        {
          "data": {
            "text/plain": [
              "array([2.56315411, 4.48588147, 2.39205653, 6.13652391, 4.03951144,\n",
              "       2.62379319, 4.60771219, 1.90651437, 4.35890465, 2.4578113 ])"
            ]
          },
          "execution_count": 39,
          "metadata": {},
          "output_type": "execute_result"
        }
      ],
      "source": [
        "y_hat[:10]"
      ]
    },
    {
      "cell_type": "code",
      "execution_count": 40,
      "metadata": {
        "colab": {
          "base_uri": "https://localhost:8080/"
        },
        "id": "3tgPZrV9pMhz",
        "outputId": "824a0c9c-0961-4cbb-a625-cdd04f1a1eb7"
      },
      "outputs": [
        {
          "data": {
            "text/plain": [
              "array([14.31935092,  5.35119708, 32.47947322, 24.63321945, 18.15064198,\n",
              "       15.7259142 , 25.86450539, 31.87070728,  8.19168614, 21.40410167])"
            ]
          },
          "execution_count": 40,
          "metadata": {},
          "output_type": "execute_result"
        }
      ],
      "source": [
        "y[:10]"
      ]
    },
    {
      "cell_type": "markdown",
      "metadata": {
        "id": "tVZB7gAbqyn7"
      },
      "source": [
        "Non-vectorized"
      ]
    },
    {
      "cell_type": "code",
      "execution_count": 41,
      "metadata": {
        "id": "GbnjhSGjpMkm"
      },
      "outputs": [],
      "source": [
        "def non_vec(X,w):\n",
        "\n",
        "  y = []\n",
        "  for i in range(0,X.shape[0]):\n",
        "    y_hat_i = 0\n",
        "    for j in range(0,X.shape[-1]):\n",
        "      y_hat_i += X[i][j]*w[j]\n",
        "    y.append(y_hat_i)\n",
        "  return np.array(y)"
      ]
    },
    {
      "cell_type": "code",
      "execution_count": 42,
      "metadata": {
        "colab": {
          "base_uri": "https://localhost:8080/"
        },
        "id": "7_Lssmxeqwk9",
        "outputId": "0d84b7eb-c0f8-4aed-9c69-778621bcc190"
      },
      "outputs": [
        {
          "name": "stderr",
          "output_type": "stream",
          "text": [
            "test_predict (__main__.TestPredict) ... ok\n",
            "\n",
            "----------------------------------------------------------------------\n",
            "Ran 1 test in 0.005s\n",
            "\n",
            "OK\n"
          ]
        },
        {
          "data": {
            "text/plain": [
              "<unittest.main.TestProgram at 0x7f9e62312b10>"
            ]
          },
          "execution_count": 42,
          "metadata": {},
          "output_type": "execute_result"
        }
      ],
      "source": [
        "import unittest\n",
        "\n",
        "class TestPredictNonvec(unittest.TestCase):\n",
        "\n",
        "  def test_predict_nonvec(self):\n",
        "    train_matrix_0 = np.array([[3,2,5],[9,4,7]])\n",
        "    train_matrix = add_dummy(train_matrix_0)\n",
        "    weight_vector = np.array([1,1,1,1])\n",
        "    expected_label_vector = np.array([11,21])\n",
        "\n",
        "    predicted_label_vec = non_vec(train_matrix,weight_vector)\n",
        "\n",
        "    self.assertEqual(predicted_label_vec.shape, (2,))\n",
        "\n",
        "    np.testing.assert_array_equal(predicted_label_vec, expected_label_vector)\n",
        "\n",
        "unittest.main(argv = [''], defaultTest = \"TestPredict\", verbosity = 2, exit = False)\n"
      ]
    },
    {
      "cell_type": "markdown",
      "metadata": {
        "id": "L4cy9wzPt57Z"
      },
      "source": [
        "Vectorized vs Nonvectorized"
      ]
    },
    {
      "cell_type": "code",
      "execution_count": 43,
      "metadata": {
        "colab": {
          "base_uri": "https://localhost:8080/"
        },
        "id": "BoReeLOVqwp3",
        "outputId": "5afc900e-9f33-44cf-edc2-96e3b68b49e7"
      },
      "outputs": [
        {
          "name": "stdout",
          "output_type": "stream",
          "text": [
            "Vector time:  0.0002741813659667969\n",
            "Non-Vector time:  0.0005080699920654297\n"
          ]
        }
      ],
      "source": [
        "import time \n",
        "\n",
        "start_time = time.time()\n",
        "y_hat_vecorized = predict(X_train, w)\n",
        "end_time = time.time()\n",
        "print(\"Vector time: \", end_time - start_time)\n",
        "\n",
        "start_time = time.time()\n",
        "y_hat_vecorized = non_vec(X_train, w)\n",
        "end_time = time.time()\n",
        "print(\"Non-Vector time: \", end_time - start_time)"
      ]
    },
    {
      "cell_type": "code",
      "execution_count": 49,
      "metadata": {
        "colab": {
          "base_uri": "https://localhost:8080/"
        },
        "id": "90ucKfPqqwsl",
        "outputId": "2286180b-475d-4c1d-8ebb-90cfe77c87b6"
      },
      "outputs": [
        {
          "name": "stdout",
          "output_type": "stream",
          "text": [
            "Vector time:  0.0028085708618164062\n",
            "Non-Vector time:  2.0685479640960693\n"
          ]
        }
      ],
      "source": [
        "X,y = generate_data(n = 1000000)\n",
        "X_dummy = add_dummy(X)\n",
        "X_train, X_test, y_train, y_test = train_test_split(X_dummy,y,test_size = 0.2, random_state = 42)\n",
        "\n",
        "start_time = time.time()\n",
        "y_hat_vecorized = predict(X_train, w)\n",
        "end_time = time.time()\n",
        "print(\"Vector time: \", end_time - start_time)\n",
        "\n",
        "start_time = time.time()\n",
        "y_hat_vecorized = non_vec(X_train, w)\n",
        "end_time = time.time()\n",
        "print(\"Non-Vector time: \", end_time - start_time)"
      ]
    },
    {
      "cell_type": "markdown",
      "metadata": {
        "id": "zi4rqWiXuHeS"
      },
      "source": [
        "## **Loss Function**"
      ]
    },
    {
      "cell_type": "code",
      "execution_count": 56,
      "metadata": {
        "id": "CSIlpWP_qwwJ"
      },
      "outputs": [],
      "source": [
        "def loss (X,y,w):\n",
        "  e = predict(X,w) - y\n",
        "  # print(e)\n",
        "  return 0.5*(np.transpose(e)@e)"
      ]
    },
    {
      "cell_type": "code",
      "execution_count": 58,
      "metadata": {
        "colab": {
          "base_uri": "https://localhost:8080/"
        },
        "id": "_10t6ImTpMnF",
        "outputId": "c28cab40-0438-44a2-ef5f-aa4e358f9c8b"
      },
      "outputs": [
        {
          "name": "stderr",
          "output_type": "stream",
          "text": [
            "test_predict_nonvec (__main__.TestLoss) ... "
          ]
        },
        {
          "name": "stdout",
          "output_type": "stream",
          "text": [
            "[ 5. 10.]\n",
            "62.5\n"
          ]
        },
        {
          "name": "stderr",
          "output_type": "stream",
          "text": [
            "ok\n",
            "\n",
            "----------------------------------------------------------------------\n",
            "Ran 1 test in 0.006s\n",
            "\n",
            "OK\n"
          ]
        },
        {
          "data": {
            "text/plain": [
              "<unittest.main.TestProgram at 0x7f9e622f4750>"
            ]
          },
          "execution_count": 58,
          "metadata": {},
          "output_type": "execute_result"
        }
      ],
      "source": [
        "import unittest\n",
        "\n",
        "class TestLoss(unittest.TestCase):\n",
        "\n",
        "  def test_predict_nonvec(self):\n",
        "    train_matrix_0 = np.array([[3,2,5],[9,4,7]])\n",
        "    train_matrix = add_dummy(train_matrix_0)\n",
        "    weight_vector = np.array([1,1,1,1])\n",
        "    label_vector = np.array([6,11])\n",
        "    expected_loss = np.array([62.5])\n",
        "\n",
        "    loss_val = loss(train_matrix, label_vector, weight_vector)\n",
        "    print(loss_val)\n",
        "\n",
        "    self.assertEqual(loss_val.shape, ())\n",
        "\n",
        "    np.testing.assert_array_equal(loss_val, expected_loss)\n",
        "\n",
        "unittest.main(argv = [''], defaultTest = \"TestLoss\", verbosity = 2, exit = False)\n"
      ]
    },
    {
      "cell_type": "code",
      "execution_count": 79,
      "metadata": {
        "id": "FOOo3ip2pMqP"
      },
      "outputs": [],
      "source": [
        "X,y = generate_data(100)\n",
        "X_train, X_test, y_train, y_test = preprocess(X,y)\n",
        "w = np.random.rand(2,)"
      ]
    },
    {
      "cell_type": "code",
      "execution_count": 83,
      "metadata": {
        "id": "ktEVj1_8DzWU"
      },
      "outputs": [],
      "source": [
        "def visualize_loss_single_feature(X_train, y_train, w):\n",
        "  sns.set_style(\"white\")\n",
        "  f = plt.figure(figsize = (8,8))\n",
        "  sns.set_context(\"notebook\", font_scale=1.5, rc={\"lines.linewidth\":2.5})\n",
        "\n",
        "  print(X_train.shape, y_train[:5])\n",
        "  plt.plot(X_train[:,-1],y_train,\"b.\")\n",
        "  pred = predict(X_train,w)\n",
        "  plt.plot(X_train[:,-1], pred ,\"b.\", color = 'green')\n",
        "  plt.title(\"Loss-vis\")\n",
        "  plt.grid(True)\n",
        "  plt.xlabel(\"$x_1$\", fontsize = 18)\n",
        "  plt.ylabel(\"$y$\", fontsize = 18)\n",
        "  plt.axis([0,10,0,40])\n",
        "\n",
        "  plt.vlines(X_train[:,-1], pred, y_train, colors = 'r', linestyles = 'solid')\n",
        "\n",
        "  plt.show()\n"
      ]
    },
    {
      "cell_type": "code",
      "execution_count": 84,
      "metadata": {
        "colab": {
          "base_uri": "https://localhost:8080/",
          "height": 552
        },
        "id": "z3yZGU0F1vIH",
        "outputId": "64706697-4811-4220-f963-6b6f2abe2799"
      },
      "outputs": [
        {
          "name": "stdout",
          "output_type": "stream",
          "text": [
            "(80, 2) [26.27143434 26.87827778  7.25783724 33.76766308 33.48443645]\n"
          ]
        },
        {
          "data": {
            "image/png": "[encoded data removed]",
            "text/plain": [
              "<Figure size 576x576 with 1 Axes>"
            ]
          },
          "metadata": {},
          "output_type": "display_data"
        }
      ],
      "source": [
        "visualize_loss_single_feature(X_train,y_train,w)"
      ]
    },
    {
      "cell_type": "code",
      "execution_count": 85,
      "metadata": {
        "colab": {
          "base_uri": "https://localhost:8080/",
          "height": 552
        },
        "id": "8_JjNUpk1vKz",
        "outputId": "18c0a69b-0d8e-435c-bd1d-6df6c3deeade"
      },
      "outputs": [
        {
          "name": "stdout",
          "output_type": "stream",
          "text": [
            "(80, 2) [26.27143434 26.87827778  7.25783724 33.76766308 33.48443645]\n"
          ]
        },
        {
          "data": {
            "image/png": "[encoded data removed]",
            "text/plain": [
              "<Figure size 576x576 with 1 Axes>"
            ]
          },
          "metadata": {},
          "output_type": "display_data"
        }
      ],
      "source": [
        "visualize_loss_single_feature(X_train,y_train,np.array([4,3]))"
      ]
    }
  ],
  "metadata": {
    "colab": {
      "name": "Linear_regression_components.ipynb",
      "provenance": []
    },
    "kernelspec": {
      "display_name": "Python 3",
      "name": "python3"
    },
    "language_info": {
      "name": "python"
    }
  },
  "nbformat": 4,
  "nbformat_minor": 0
}
