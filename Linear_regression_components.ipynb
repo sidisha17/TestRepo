{
  "cells": [
    {
      "cell_type": "markdown",
      "metadata": {
        "id": "B7avkR0L9Sv8"
      },
      "source": [
        "### **Week 2 MLT**"
      ]
    },
    {
      "cell_type": "code",
      "execution_count": 2,
      "metadata": {
        "id": "jNFooViD-Fz6"
      },
      "outputs": [],
      "source": [
        "import numpy as np"
      ]
    },
    {
      "cell_type": "code",
      "execution_count": 3,
      "metadata": {
        "colab": {
          "base_uri": "https://localhost:8080/"
        },
        "id": "mULOyIu4BSba",
        "outputId": "f8841ff4-b053-4b12-fec8-6b487fa1bad5"
      },
      "outputs": [
        {
          "name": "stdout",
          "output_type": "stream",
          "text": [
            "Requirement already satisfied: IPython in c:\\users\\kisse\\anaconda3\\lib\\site-packages (7.22.0)\n",
            "Requirement already satisfied: pickleshare in c:\\users\\kisse\\anaconda3\\lib\\site-packages (from IPython) (0.7.5)\n",
            "Requirement already satisfied: traitlets>=4.2 in c:\\users\\kisse\\anaconda3\\lib\\site-packages (from IPython) (5.0.5)\n",
            "Requirement already satisfied: jedi>=0.16 in c:\\users\\kisse\\anaconda3\\lib\\site-packages (from IPython) (0.17.2)\n",
            "Requirement already satisfied: colorama in c:\\users\\kisse\\anaconda3\\lib\\site-packages (from IPython) (0.4.4)\n",
            "Requirement already satisfied: backcall in c:\\users\\kisse\\anaconda3\\lib\\site-packages (from IPython) (0.2.0)\n",
            "Requirement already satisfied: decorator in c:\\users\\kisse\\anaconda3\\lib\\site-packages (from IPython) (5.0.6)\n",
            "Requirement already satisfied: setuptools>=18.5 in c:\\users\\kisse\\anaconda3\\lib\\site-packages (from IPython) (52.0.0.post20210125)\n",
            "Requirement already satisfied: pygments in c:\\users\\kisse\\anaconda3\\lib\\site-packages (from IPython) (2.8.1)\n",
            "Requirement already satisfied: prompt-toolkit!=3.0.0,!=3.0.1,<3.1.0,>=2.0.0 in c:\\users\\kisse\\anaconda3\\lib\\site-packages (from IPython) (3.0.17)\n",
            "Requirement already satisfied: parso<0.8.0,>=0.7.0 in c:\\users\\kisse\\anaconda3\\lib\\site-packages (from jedi>=0.16->IPython) (0.7.0)\n",
            "Requirement already satisfied: wcwidth in c:\\users\\kisse\\anaconda3\\lib\\site-packages (from prompt-toolkit!=3.0.0,!=3.0.1,<3.1.0,>=2.0.0->IPython) (0.2.5)\n",
            "Requirement already satisfied: ipython-genutils in c:\\users\\kisse\\anaconda3\\lib\\site-packages (from traitlets>=4.2->IPython) (0.2.0)\n"
          ]
        }
      ],
      "source": [
        "!pip install IPython"
      ]
    },
    {
      "cell_type": "markdown",
      "metadata": {
        "id": "gmSsFjeoBx7n"
      },
      "source": [
        "## **Training** Data"
      ]
    },
    {
      "cell_type": "code",
      "execution_count": 4,
      "metadata": {
        "id": "D3AhGzJDBznp"
      },
      "outputs": [],
      "source": [
        "w1 = 3\n",
        "w0 = 4\n",
        "n = 100\n",
        "\n",
        "X = 10 * np.random.rand(n,)\n",
        "\n",
        "y = w0+w1*X+np.random.rand(n,)"
      ]
    },
    {
      "cell_type": "code",
      "execution_count": 5,
      "metadata": {
        "colab": {
          "base_uri": "https://localhost:8080/"
        },
        "id": "rUMLT07bCIO5",
        "outputId": "68241c83-cce4-4088-e0c1-a55497d9d730"
      },
      "outputs": [
        {
          "name": "stdout",
          "output_type": "stream",
          "text": [
            "(100,) (100,)\n"
          ]
        }
      ],
      "source": [
        "print(X.shape,y.shape)"
      ]
    },
    {
      "cell_type": "code",
      "execution_count": 6,
      "metadata": {
        "id": "u9npHjxfCISJ"
      },
      "outputs": [],
      "source": [
        "from sklearn.model_selection import train_test_split\n",
        "\n",
        "X_train, X_test, y_train, y_test = train_test_split(X,y,test_size = 0.2, random_state = 42)"
      ]
    },
    {
      "cell_type": "code",
      "execution_count": 7,
      "metadata": {
        "colab": {
          "base_uri": "https://localhost:8080/"
        },
        "id": "PepUDKqcCIVB",
        "outputId": "aa887207-1a62-4e5e-83d6-ac5cac83dbc1"
      },
      "outputs": [
        {
          "name": "stdout",
          "output_type": "stream",
          "text": [
            "(80,) (80,) (20,) (20,)\n"
          ]
        }
      ],
      "source": [
        "print(X_train.shape, y_train.shape, X_test.shape, y_test.shape)"
      ]
    },
    {
      "cell_type": "code",
      "execution_count": 8,
      "metadata": {
        "colab": {
          "base_uri": "https://localhost:8080/"
        },
        "id": "wxp7utvbCIXh",
        "outputId": "2e89e977-c6b9-4846-998e-e50cba1ee960"
      },
      "outputs": [
        {
          "data": {
            "text/plain": [
              "array([7.3053553 , 5.03454216, 0.96268219, 5.80857767, 6.02257522])"
            ]
          },
          "execution_count": 8,
          "metadata": {},
          "output_type": "execute_result"
        }
      ],
      "source": [
        "X_train[:5]"
      ]
    },
    {
      "cell_type": "code",
      "execution_count": 9,
      "metadata": {
        "colab": {
          "base_uri": "https://localhost:8080/"
        },
        "id": "L4JBqdT2CIaN",
        "outputId": "3059de81-3e28-4a3e-983d-8d7eb84dde45"
      },
      "outputs": [
        {
          "data": {
            "text/plain": [
              "array([26.74629179, 19.91124018,  7.60288258, 21.73362504, 22.10508863])"
            ]
          },
          "execution_count": 9,
          "metadata": {},
          "output_type": "execute_result"
        }
      ],
      "source": [
        "y_train[:5]"
      ]
    },
    {
      "cell_type": "code",
      "execution_count": 10,
      "metadata": {
        "colab": {
          "base_uri": "https://localhost:8080/",
          "height": 535
        },
        "id": "iQMungMQCIcq",
        "outputId": "8d508585-a522-403e-c41e-78d3357da68d"
      },
      "outputs": [
        {
          "data": {
            "image/png": "[encoded data removed]",
            "text/plain": [
              "<Figure size 576x576 with 1 Axes>"
            ]
          },
          "metadata": {},
          "output_type": "display_data"
        }
      ],
      "source": [
        "import matplotlib.pyplot as plt\n",
        "import seaborn as sns\n",
        "\n",
        "\n",
        "sns.set_style(\"white\")\n",
        "f = plt.figure(figsize = (8,8))\n",
        "sns.set_context(\"notebook\", font_scale=1.5, rc={\"lines.linewidth\":2.5})\n",
        "\n",
        "plt.plot(X_train,y_train,\"b.\")\n",
        "plt.title(\"Data points\")\n",
        "plt.grid(True)\n",
        "plt.xlabel(\"$x_1$\", fontsize = 18)\n",
        "plt.ylabel(\"$y$\", fontsize = 18)\n",
        "plt.axis([0,10,0,40])\n",
        "\n",
        "plt.show()\n",
        "\n"
      ]
    },
    {
      "cell_type": "code",
      "execution_count": 11,
      "metadata": {
        "id": "0dgvZcsoCIfx"
      },
      "outputs": [],
      "source": [
        "def add_dummy(x):\n",
        "  return np.column_stack((np.ones(x.shape[0]),x))  #input - tuple"
      ]
    },
    {
      "cell_type": "code",
      "execution_count": 12,
      "metadata": {
        "id": "gamRQT34dudh"
      },
      "outputs": [
        {
          "name": "stdout",
          "output_type": "stream",
          "text": [
            "\u001b[1;31mSignature:\u001b[0m \u001b[0mnp\u001b[0m\u001b[1;33m.\u001b[0m\u001b[0mcolumn_stack\u001b[0m\u001b[1;33m(\u001b[0m\u001b[0mtup\u001b[0m\u001b[1;33m)\u001b[0m\u001b[1;33m\u001b[0m\u001b[1;33m\u001b[0m\u001b[0m\n",
            "\u001b[1;31mDocstring:\u001b[0m\n",
            "Stack 1-D arrays as columns into a 2-D array.\n",
            "\n",
            "Take a sequence of 1-D arrays and stack them as columns\n",
            "to make a single 2-D array. 2-D arrays are stacked as-is,\n",
            "just like with `hstack`.  1-D arrays are turned into 2-D columns\n",
            "first.\n",
            "\n",
            "Parameters\n",
            "----------\n",
            "tup : sequence of 1-D or 2-D arrays.\n",
            "    Arrays to stack. All of them must have the same first dimension.\n",
            "\n",
            "Returns\n",
            "-------\n",
            "stacked : 2-D array\n",
            "    The array formed by stacking the given arrays.\n",
            "\n",
            "See Also\n",
            "--------\n",
            "stack, hstack, vstack, concatenate\n",
            "\n",
            "Examples\n",
            "--------\n",
            ">>> a = np.array((1,2,3))\n",
            ">>> b = np.array((2,3,4))\n",
            ">>> np.column_stack((a,b))\n",
            "array([[1, 2],\n",
            "       [2, 3],\n",
            "       [3, 4]])\n",
            "\u001b[1;31mFile:\u001b[0m      c:\\users\\kisse\\anaconda3\\lib\\site-packages\\numpy\\lib\\shape_base.py\n",
            "\u001b[1;31mType:\u001b[0m      function\n"
          ]
        }
      ],
      "source": [
        "np.column_stack?"
      ]
    },
    {
      "cell_type": "markdown",
      "metadata": {
        "id": "KWrpAlypeAih"
      },
      "source": [
        "Testing"
      ]
    },
    {
      "cell_type": "code",
      "execution_count": 13,
      "metadata": {
        "colab": {
          "base_uri": "https://localhost:8080/"
        },
        "id": "G6vHN4STDzDF",
        "outputId": "b189028b-5903-4664-b714-315075a80911"
      },
      "outputs": [
        {
          "name": "stderr",
          "output_type": "stream",
          "text": [
            "test_dummy (__main__.TestDummy) ... ok\n",
            "\n",
            "----------------------------------------------------------------------\n",
            "Ran 1 test in 0.002s\n",
            "\n",
            "OK\n"
          ]
        },
        {
          "data": {
            "text/plain": [
              "<unittest.main.TestProgram at 0x258893274f0>"
            ]
          },
          "execution_count": 13,
          "metadata": {},
          "output_type": "execute_result"
        }
      ],
      "source": [
        "import unittest\n",
        "\n",
        "class TestDummy(unittest.TestCase):\n",
        "  def test_dummy(self):\n",
        "    train_matrix = np.array([[3,2,5],[9,4,7]])\n",
        "    train_matrix_with_dummy = add_dummy(train_matrix)\n",
        "\n",
        "    self.assertEqual(train_matrix_with_dummy.shape,(2,4))\n",
        "\n",
        "    np.testing.assert_array_equal(train_matrix_with_dummy,np.array([[1,3,2,5],[1,9,4,7]]))\n",
        "\n",
        "unittest.main(argv=[''], defaultTest = 'TestDummy', verbosity  = 2, exit = False)\n",
        "\n",
        "\n"
      ]
    },
    {
      "cell_type": "code",
      "execution_count": 14,
      "metadata": {
        "colab": {
          "base_uri": "https://localhost:8080/"
        },
        "id": "htOn6AMODzGI",
        "outputId": "50476267-659d-4fb3-92a5-ef9a48e498a3"
      },
      "outputs": [
        {
          "data": {
            "text/plain": [
              "array([[1., 3., 4.],\n",
              "       [1., 9., 7.]])"
            ]
          },
          "execution_count": 14,
          "metadata": {},
          "output_type": "execute_result"
        }
      ],
      "source": [
        "add_dummy(np.array([[3,4],[9,7]]))"
      ]
    },
    {
      "cell_type": "code",
      "execution_count": 15,
      "metadata": {
        "colab": {
          "base_uri": "https://localhost:8080/"
        },
        "id": "PvHZ0Yh8DzIq",
        "outputId": "88cb9dfd-ec49-407b-dcc8-3008a8ddc737"
      },
      "outputs": [
        {
          "name": "stdout",
          "output_type": "stream",
          "text": [
            "Before adding dummy [7.3053553  5.03454216 0.96268219 5.80857767 6.02257522]\n",
            "After adding dummy\n",
            "[[1.         7.3053553 ]\n",
            " [1.         5.03454216]\n",
            " [1.         0.96268219]\n",
            " [1.         5.80857767]\n",
            " [1.         6.02257522]]\n"
          ]
        }
      ],
      "source": [
        "print(\"Before adding dummy\",X_train[:5])\n",
        "print(\"After adding dummy\")\n",
        "\n",
        "X_train_with_dummy = add_dummy(X_train)\n",
        "print(X_train_with_dummy[:5])"
      ]
    },
    {
      "cell_type": "markdown",
      "metadata": {
        "id": "OhkJaBRMfTg5"
      },
      "source": [
        "### **Model**"
      ]
    },
    {
      "cell_type": "code",
      "execution_count": 16,
      "metadata": {
        "id": "N0lsqGhbDzLh"
      },
      "outputs": [],
      "source": [
        "def predict(X,w):\n",
        "\n",
        "  assert X.shape[-1]==w.shape[0]\n",
        "  return X@w"
      ]
    },
    {
      "cell_type": "code",
      "execution_count": 17,
      "metadata": {
        "colab": {
          "base_uri": "https://localhost:8080/"
        },
        "id": "BT8fmAZ-DzQc",
        "outputId": "60ca8fcb-dbbd-44ad-bea0-783e74aaf183"
      },
      "outputs": [
        {
          "name": "stderr",
          "output_type": "stream",
          "text": [
            "test_predict (__main__.TestPredict) ... ok\n",
            "\n",
            "----------------------------------------------------------------------\n",
            "Ran 1 test in 0.002s\n",
            "\n",
            "OK\n"
          ]
        },
        {
          "data": {
            "text/plain": [
              "<unittest.main.TestProgram at 0x2588628d670>"
            ]
          },
          "execution_count": 17,
          "metadata": {},
          "output_type": "execute_result"
        }
      ],
      "source": [
        "import unittest\n",
        "class TestPredict(unittest.TestCase):\n",
        "\n",
        "  def test_predict(self):\n",
        "\n",
        "    train_matrix_0 = np.array([[3,2,5],[9,4,7]])\n",
        "    train_matrix = add_dummy(train_matrix_0)\n",
        "    weight_vector = np.array([1,1,1,1])\n",
        "    expected_label_vector = np.array([11,21])\n",
        "\n",
        "    predicted_label_vec = predict(train_matrix,weight_vector)\n",
        "\n",
        "    self.assertEqual(predicted_label_vec.shape, (2,))\n",
        "\n",
        "    np.testing.assert_array_equal(predicted_label_vec, expected_label_vector)\n",
        "\n",
        "unittest.main(argv = [''], defaultTest = \"TestPredict\", verbosity = 2, exit = False)"
      ]
    },
    {
      "cell_type": "code",
      "execution_count": 18,
      "metadata": {
        "id": "IzX4ItHQtXvV"
      },
      "outputs": [],
      "source": [
        "def generate_data(n):\n",
        "  w1 = 3\n",
        "  w0 = 4\n",
        "\n",
        "  X = 10 * np.random.rand(n,)\n",
        "\n",
        "  y = w0+w1*X+np.random.rand(n,)\n",
        "\n",
        "  return X,y"
      ]
    },
    {
      "cell_type": "code",
      "execution_count": 19,
      "metadata": {
        "id": "aLgm8pqBDzTq"
      },
      "outputs": [],
      "source": [
        "\n",
        "\n",
        "w1 = 3\n",
        "w0 = 4\n",
        "n = 100\n",
        "\n",
        "X = 10 * np.random.rand(n,)\n",
        "\n",
        "y = w0+w1*X+np.random.rand(n,)"
      ]
    },
    {
      "cell_type": "code",
      "execution_count": 20,
      "metadata": {
        "id": "TLijNYcep8F0"
      },
      "outputs": [],
      "source": [
        "X_dummy = add_dummy(X)"
      ]
    },
    {
      "cell_type": "code",
      "execution_count": 21,
      "metadata": {
        "id": "ynD3Td9M1OlP"
      },
      "outputs": [],
      "source": [
        "def preprocess(X,y):\n",
        "  X_dummy = add_dummy(X)\n",
        "  return  train_test_split(X_dummy,y,test_size = 0.2, random_state = 42)"
      ]
    },
    {
      "cell_type": "code",
      "execution_count": 22,
      "metadata": {
        "id": "9CE6R_gAqYzV"
      },
      "outputs": [],
      "source": [
        "from sklearn.model_selection import train_test_split\n",
        "\n",
        "X_train, X_test, y_train, y_test = train_test_split(X_dummy,y,test_size = 0.2, random_state = 42)"
      ]
    },
    {
      "cell_type": "code",
      "execution_count": 23,
      "metadata": {
        "colab": {
          "base_uri": "https://localhost:8080/"
        },
        "id": "yzNSwW-fpMZM",
        "outputId": "c6ab24de-06fd-459a-80de-e3e775719c1a"
      },
      "outputs": [
        {
          "data": {
            "text/plain": [
              "array([0.80329201, 0.25518037])"
            ]
          },
          "execution_count": 23,
          "metadata": {},
          "output_type": "execute_result"
        }
      ],
      "source": [
        "w = np.random.rand(2,)\n",
        "w"
      ]
    },
    {
      "cell_type": "code",
      "execution_count": 24,
      "metadata": {
        "id": "Z7_nAuAmpMb-"
      },
      "outputs": [],
      "source": [
        "y_hat = predict(X_train, w)"
      ]
    },
    {
      "cell_type": "code",
      "execution_count": 25,
      "metadata": {
        "colab": {
          "base_uri": "https://localhost:8080/"
        },
        "id": "8XFWq48WpMfF",
        "outputId": "8ab7933c-bd7e-4680-cee7-dc4848a1832a"
      },
      "outputs": [
        {
          "data": {
            "text/plain": [
              "array([2.89309847, 2.8867704 , 3.13759676, 1.04092322, 3.18170941,\n",
              "       1.89426632, 3.23560613, 1.39891888, 2.56580477, 2.95305611])"
            ]
          },
          "execution_count": 25,
          "metadata": {},
          "output_type": "execute_result"
        }
      ],
      "source": [
        "y_hat[:10]"
      ]
    },
    {
      "cell_type": "code",
      "execution_count": 26,
      "metadata": {
        "colab": {
          "base_uri": "https://localhost:8080/"
        },
        "id": "3tgPZrV9pMhz",
        "outputId": "c01dc30c-f1a3-47a8-b3b0-98b2073075fc"
      },
      "outputs": [
        {
          "data": {
            "text/plain": [
              "array([ 6.51056951, 22.79191416, 22.98030629, 34.5923492 , 33.63355702,\n",
              "       24.72994105, 10.82666638,  8.48312179,  8.65783039, 25.33625981])"
            ]
          },
          "execution_count": 26,
          "metadata": {},
          "output_type": "execute_result"
        }
      ],
      "source": [
        "y[:10]"
      ]
    },
    {
      "cell_type": "markdown",
      "metadata": {
        "id": "tVZB7gAbqyn7"
      },
      "source": [
        "Non-vectorized"
      ]
    },
    {
      "cell_type": "code",
      "execution_count": 27,
      "metadata": {
        "id": "GbnjhSGjpMkm"
      },
      "outputs": [],
      "source": [
        "def non_vec(X,w):\n",
        "\n",
        "  y = []\n",
        "  for i in range(0,X.shape[0]):\n",
        "    y_hat_i = 0\n",
        "    for j in range(0,X.shape[-1]):\n",
        "      y_hat_i += X[i][j]*w[j]\n",
        "    y.append(y_hat_i)\n",
        "  return np.array(y)"
      ]
    },
    {
      "cell_type": "code",
      "execution_count": 28,
      "metadata": {
        "colab": {
          "base_uri": "https://localhost:8080/"
        },
        "id": "7_Lssmxeqwk9",
        "outputId": "861056fb-5ba8-4f6c-edeb-489e89a0d2c8"
      },
      "outputs": [
        {
          "name": "stderr",
          "output_type": "stream",
          "text": [
            "test_predict (__main__.TestPredict) ... ok\n",
            "\n",
            "----------------------------------------------------------------------\n",
            "Ran 1 test in 0.002s\n",
            "\n",
            "OK\n"
          ]
        },
        {
          "data": {
            "text/plain": [
              "<unittest.main.TestProgram at 0x258894da9d0>"
            ]
          },
          "execution_count": 28,
          "metadata": {},
          "output_type": "execute_result"
        }
      ],
      "source": [
        "import unittest\n",
        "\n",
        "class TestPredictNonvec(unittest.TestCase):\n",
        "\n",
        "  def test_predict_nonvec(self):\n",
        "    train_matrix_0 = np.array([[3,2,5],[9,4,7]])\n",
        "    train_matrix = add_dummy(train_matrix_0)\n",
        "    weight_vector = np.array([1,1,1,1])\n",
        "    expected_label_vector = np.array([11,21])\n",
        "\n",
        "    predicted_label_vec = non_vec(train_matrix,weight_vector)\n",
        "\n",
        "    self.assertEqual(predicted_label_vec.shape, (2,))\n",
        "\n",
        "    np.testing.assert_array_equal(predicted_label_vec, expected_label_vector)\n",
        "\n",
        "unittest.main(argv = [''], defaultTest = \"TestPredict\", verbosity = 2, exit = False)\n"
      ]
    },
    {
      "cell_type": "markdown",
      "metadata": {
        "id": "L4cy9wzPt57Z"
      },
      "source": [
        "Vectorized vs Nonvectorized"
      ]
    },
    {
      "cell_type": "code",
      "execution_count": 29,
      "metadata": {
        "colab": {
          "base_uri": "https://localhost:8080/"
        },
        "id": "BoReeLOVqwp3",
        "outputId": "185ad98e-2831-4747-f16c-09ecbc26b995"
      },
      "outputs": [
        {
          "name": "stdout",
          "output_type": "stream",
          "text": [
            "Vector time:  0.0\n",
            "Non-Vector time:  0.0004961490631103516\n"
          ]
        }
      ],
      "source": [
        "import time \n",
        "\n",
        "start_time = time.time()\n",
        "y_hat_vecorized = predict(X_train, w)\n",
        "end_time = time.time()\n",
        "print(\"Vector time: \", end_time - start_time)\n",
        "\n",
        "start_time = time.time()\n",
        "y_hat_vecorized = non_vec(X_train, w)\n",
        "end_time = time.time()\n",
        "print(\"Non-Vector time: \", end_time - start_time)"
      ]
    },
    {
      "cell_type": "code",
      "execution_count": 30,
      "metadata": {
        "colab": {
          "base_uri": "https://localhost:8080/"
        },
        "id": "90ucKfPqqwsl",
        "outputId": "6b2d4e5c-c274-4d5c-d283-9f796c1905db"
      },
      "outputs": [
        {
          "name": "stdout",
          "output_type": "stream",
          "text": [
            "Vector time:  0.002443075180053711\n",
            "Non-Vector time:  1.3372526168823242\n"
          ]
        }
      ],
      "source": [
        "X,y = generate_data(n = 1000000)\n",
        "X_dummy = add_dummy(X)\n",
        "X_train, X_test, y_train, y_test = train_test_split(X_dummy,y,test_size = 0.2, random_state = 42)\n",
        "\n",
        "start_time = time.time()\n",
        "y_hat_vecorized = predict(X_train, w)\n",
        "end_time = time.time()\n",
        "print(\"Vector time: \", end_time - start_time)\n",
        "\n",
        "start_time = time.time()\n",
        "y_hat_vecorized = non_vec(X_train, w)\n",
        "end_time = time.time()\n",
        "print(\"Non-Vector time: \", end_time - start_time)"
      ]
    },
    {
      "cell_type": "markdown",
      "metadata": {
        "id": "zi4rqWiXuHeS"
      },
      "source": [
        "## **Loss Function**"
      ]
    },
    {
      "cell_type": "code",
      "execution_count": 31,
      "metadata": {
        "id": "CSIlpWP_qwwJ"
      },
      "outputs": [],
      "source": [
        "def loss (X,y,w):\n",
        "  e = predict(X,w) - y\n",
        "  # print(e)\n",
        "  return 0.5*(np.transpose(e)@e)"
      ]
    },
    {
      "cell_type": "code",
      "execution_count": 32,
      "metadata": {
        "colab": {
          "base_uri": "https://localhost:8080/"
        },
        "id": "_10t6ImTpMnF",
        "outputId": "2f675052-ca85-4548-a160-675694189146"
      },
      "outputs": [
        {
          "name": "stderr",
          "output_type": "stream",
          "text": [
            "test_predict_nonvec (__main__.TestLoss) ... "
          ]
        },
        {
          "name": "stdout",
          "output_type": "stream",
          "text": [
            "62.5\n"
          ]
        },
        {
          "name": "stderr",
          "output_type": "stream",
          "text": [
            "ok\n",
            "\n",
            "----------------------------------------------------------------------\n",
            "Ran 1 test in 0.002s\n",
            "\n",
            "OK\n"
          ]
        },
        {
          "data": {
            "text/plain": [
              "<unittest.main.TestProgram at 0x2588628d160>"
            ]
          },
          "execution_count": 32,
          "metadata": {},
          "output_type": "execute_result"
        }
      ],
      "source": [
        "import unittest\n",
        "\n",
        "class TestLoss(unittest.TestCase):\n",
        "\n",
        "  def test_predict_nonvec(self):\n",
        "    train_matrix_0 = np.array([[3,2,5],[9,4,7]])\n",
        "    train_matrix = add_dummy(train_matrix_0)\n",
        "    weight_vector = np.array([1,1,1,1])\n",
        "    label_vector = np.array([6,11])\n",
        "    expected_loss = np.array([62.5])\n",
        "\n",
        "    loss_val = loss(train_matrix, label_vector, weight_vector)\n",
        "    print(loss_val)\n",
        "\n",
        "    self.assertEqual(loss_val.shape, ())\n",
        "\n",
        "    np.testing.assert_array_equal(loss_val, expected_loss)\n",
        "\n",
        "unittest.main(argv = [''], defaultTest = \"TestLoss\", verbosity = 2, exit = False)\n"
      ]
    },
    {
      "cell_type": "code",
      "execution_count": 33,
      "metadata": {
        "id": "FOOo3ip2pMqP"
      },
      "outputs": [],
      "source": [
        "X,y = generate_data(100)\n",
        "X_train, X_test, y_train, y_test = preprocess(X,y)\n",
        "w = np.random.rand(2,)"
      ]
    },
    {
      "cell_type": "code",
      "execution_count": 34,
      "metadata": {
        "id": "ktEVj1_8DzWU"
      },
      "outputs": [],
      "source": [
        "def visualize_loss_single_feature(X_train, y_train, w):\n",
        "  sns.set_style(\"white\")\n",
        "  f = plt.figure(figsize = (8,8))\n",
        "  sns.set_context(\"notebook\", font_scale=1.5, rc={\"lines.linewidth\":2.5})\n",
        "\n",
        "  print(X_train.shape, y_train[:5])\n",
        "  plt.plot(X_train[:,-1],y_train,\"b.\")\n",
        "  pred = predict(X_train,w)\n",
        "  plt.plot(X_train[:,-1], pred ,\"b.\", color = 'green')\n",
        "  plt.title(\"Loss-vis\")\n",
        "  plt.grid(True)\n",
        "  plt.xlabel(\"$x_1$\", fontsize = 18)\n",
        "  plt.ylabel(\"$y$\", fontsize = 18)\n",
        "  plt.axis([0,10,0,40])\n",
        "\n",
        "  plt.vlines(X_train[:,-1], pred, y_train, colors = 'r', linestyles = 'solid')\n",
        "\n",
        "  plt.show()\n"
      ]
    },
    {
      "cell_type": "code",
      "execution_count": 35,
      "metadata": {
        "colab": {
          "base_uri": "https://localhost:8080/",
          "height": 552
        },
        "id": "z3yZGU0F1vIH",
        "outputId": "c67a94b0-a593-462d-a720-aa342b3fedee"
      },
      "outputs": [
        {
          "name": "stdout",
          "output_type": "stream",
          "text": [
            "(80, 2) [29.29312937 26.70141029 14.55502631 17.74854409 29.92926205]\n"
          ]
        },
        {
          "data": {
            "image/png": "[encoded data removed]",
            "text/plain": [
              "<Figure size 576x576 with 1 Axes>"
            ]
          },
          "metadata": {},
          "output_type": "display_data"
        }
      ],
      "source": [
        "visualize_loss_single_feature(X_train,y_train,w)"
      ]
    },
    {
      "cell_type": "code",
      "execution_count": 36,
      "metadata": {
        "colab": {
          "base_uri": "https://localhost:8080/",
          "height": 552
        },
        "id": "8_JjNUpk1vKz",
        "outputId": "f68f9151-0d53-405c-807a-173e6cc21bac"
      },
      "outputs": [
        {
          "name": "stdout",
          "output_type": "stream",
          "text": [
            "(80, 2) [29.29312937 26.70141029 14.55502631 17.74854409 29.92926205]\n"
          ]
        },
        {
          "data": {
            "image/png": "[encoded data removed]",
            "text/plain": [
              "<Figure size 576x576 with 1 Axes>"
            ]
          },
          "metadata": {},
          "output_type": "display_data"
        }
      ],
      "source": [
        "visualize_loss_single_feature(X_train,y_train,np.array([4,3]))"
      ]
    },
    {
      "cell_type": "markdown",
      "metadata": {
        "id": "xqGvCAfgmuEA"
      },
      "source": [
        "## **Optimization**"
      ]
    },
    {
      "cell_type": "code",
      "execution_count": 37,
      "metadata": {
        "id": "dqxP78OXlyH5"
      },
      "outputs": [],
      "source": [
        "X,y = generate_data(100)\n",
        "X_train, X_test, y_train, y_test = preprocess(X,y)"
      ]
    },
    {
      "cell_type": "markdown",
      "metadata": {
        "id": "HGwoehbvm7Sa"
      },
      "source": [
        "Normal equation"
      ]
    },
    {
      "cell_type": "code",
      "execution_count": 38,
      "metadata": {
        "id": "65L5bCxrm6AO"
      },
      "outputs": [],
      "source": [
        "def normal_eq(X,y):\n",
        "  # returns weight vec\n",
        "  return np.linalg.pinv(X)@y     #pseudoiverse of X"
      ]
    },
    {
      "cell_type": "code",
      "execution_count": 39,
      "metadata": {
        "colab": {
          "base_uri": "https://localhost:8080/"
        },
        "id": "jhZ39prqnOTk",
        "outputId": "f29d1512-780d-4282-a767-6b12c544765a"
      },
      "outputs": [
        {
          "name": "stderr",
          "output_type": "stream",
          "text": [
            "test_predict_nonvec (__main__.TestNormal) ... "
          ]
        },
        {
          "name": "stdout",
          "output_type": "stream",
          "text": [
            "[4.45230311 3.01576449]\n"
          ]
        },
        {
          "name": "stderr",
          "output_type": "stream",
          "text": [
            "ok\n",
            "\n",
            "----------------------------------------------------------------------\n",
            "Ran 1 test in 0.005s\n",
            "\n",
            "OK\n"
          ]
        },
        {
          "data": {
            "text/plain": [
              "<unittest.main.TestProgram at 0x2588938c670>"
            ]
          },
          "execution_count": 39,
          "metadata": {},
          "output_type": "execute_result"
        }
      ],
      "source": [
        "import unittest\n",
        "\n",
        "class TestNormal(unittest.TestCase):\n",
        "\n",
        "  def test_predict_nonvec(self):\n",
        "    train_matrix = X_train\n",
        "    label_vector = y_train\n",
        "    expected_weight_vector = np.array([4.,3.])\n",
        "\n",
        "    estimated_weight_vec = normal_eq(train_matrix, label_vector)\n",
        "    print(estimated_weight_vec)\n",
        "    \n",
        "    self.assertEqual(estimated_weight_vec.shape, (2,))\n",
        "\n",
        "    np.testing.assert_array_almost_equal(\n",
        "        estimated_weight_vec, expected_weight_vector, decimal = 0)\n",
        "\n",
        "unittest.main(argv = [''], defaultTest = \"TestNormal\", verbosity = 2, exit = False)\n"
      ]
    },
    {
      "cell_type": "markdown",
      "metadata": {
        "id": "JccaZl2YofhY"
      },
      "source": [
        "Gradient Descent"
      ]
    },
    {
      "cell_type": "code",
      "execution_count": 40,
      "metadata": {
        "id": "YZEeLYSSoNqO"
      },
      "outputs": [],
      "source": [
        "def calc_grad(X,y,w):\n",
        "  return np.transpose(X)@(predict(X,w)-y)\n",
        "  \n"
      ]
    },
    {
      "cell_type": "code",
      "execution_count": 41,
      "metadata": {
        "colab": {
          "base_uri": "https://localhost:8080/"
        },
        "id": "o3ZVjkNVov3h",
        "outputId": "171a99de-ed9e-46e2-9105-f1ca2aaf8fc9"
      },
      "outputs": [
        {
          "name": "stderr",
          "output_type": "stream",
          "text": [
            "test_grad (__main__.TestGrad) ... ok\n",
            "\n",
            "----------------------------------------------------------------------\n",
            "Ran 1 test in 0.002s\n",
            "\n",
            "OK\n"
          ]
        },
        {
          "data": {
            "text/plain": [
              "<unittest.main.TestProgram at 0x2588943feb0>"
            ]
          },
          "execution_count": 41,
          "metadata": {},
          "output_type": "execute_result"
        }
      ],
      "source": [
        "class TestGrad(unittest.TestCase):\n",
        "\n",
        "  def test_grad(self):\n",
        "    train_matrix_0 = np.array([[3,2,5],[9,4,7]])\n",
        "    train_matrix = add_dummy(train_matrix_0)\n",
        "    weight_vector = np.array([1,1,1,1])\n",
        "    label_vector = np.array([6,11])\n",
        "    expected_grad = np.array([15, 105, 50, 95])\n",
        "\n",
        "    grad = calc_grad(train_matrix, label_vector, weight_vector)\n",
        "    # print(loss_val)\n",
        "\n",
        "    self.assertEqual(grad.shape, (4,))\n",
        "\n",
        "    np.testing.assert_array_equal(grad, expected_grad)\n",
        "\n",
        "unittest.main(argv = [''], defaultTest = \"TestGrad\", verbosity = 2, exit = False)\n"
      ]
    },
    {
      "cell_type": "markdown",
      "metadata": {
        "id": "AgdR4pjDpdTC"
      },
      "source": [
        "Weight Update"
      ]
    },
    {
      "cell_type": "code",
      "execution_count": 42,
      "metadata": {
        "id": "K8bDBzx8pTND"
      },
      "outputs": [],
      "source": [
        "def weightupdate(w, grad, lr):\n",
        "  return (w - lr*grad)"
      ]
    },
    {
      "cell_type": "code",
      "execution_count": 43,
      "metadata": {
        "colab": {
          "base_uri": "https://localhost:8080/"
        },
        "id": "RaVWbl5xplb9",
        "outputId": "31c81889-0d16-4f15-beac-cc51407b4c13"
      },
      "outputs": [
        {
          "name": "stderr",
          "output_type": "stream",
          "text": [
            "test_weight (__main__.TestWeight) ... ok\n",
            "\n",
            "----------------------------------------------------------------------\n",
            "Ran 1 test in 0.003s\n",
            "\n",
            "OK\n"
          ]
        },
        {
          "data": {
            "text/plain": [
              "<unittest.main.TestProgram at 0x25889410d60>"
            ]
          },
          "execution_count": 43,
          "metadata": {},
          "output_type": "execute_result"
        }
      ],
      "source": [
        "class TestWeight(unittest.TestCase):\n",
        "\n",
        "  def test_weight(self):\n",
        "    # train_matrix_0 = np.array([[3,2,5],[9,4,7]])\n",
        "    # train_matrix = add_dummy(train_matrix_0)\n",
        "    weight_vector = np.array([1,1,1,1])\n",
        "    # label_vector = np.array([6,11])\n",
        "    grad_vec = np.array([15, 105, 50, 95])\n",
        "    expected_w = np.array([0.985, 0.895, 0.95, 0.905])\n",
        "\n",
        "    w_new = weightupdate(weight_vector, grad_vec, 0.001)\n",
        "    # print(loss_val)\n",
        "\n",
        "    self.assertEqual(w_new.shape, (4,))\n",
        "\n",
        "    np.testing.assert_array_equal(w_new, expected_w)\n",
        "\n",
        "unittest.main(argv = [''], defaultTest = \"TestWeight\", verbosity = 2, exit = False)\n"
      ]
    },
    {
      "cell_type": "code",
      "execution_count": 44,
      "metadata": {
        "id": "x930xonBqMFq"
      },
      "outputs": [],
      "source": [
        "def gradient_descent(X:np.ndarray,y:np.ndarray, lr:float, num_epochs:int):\n",
        "  w_all = []\n",
        "  err_all = []\n",
        "\n",
        "  w = np.zeros((X.shape[1]))\n",
        "\n",
        "  print()\n",
        "\n",
        "  for i in np.arange(0,num_epochs):\n",
        "    w_all.append(w)\n",
        "\n",
        "    err_all.append(loss(X,y,w))\n",
        "\n",
        "    djdw = calc_grad(X,y,w)\n",
        "\n",
        "    if i%100 == 0:\n",
        "      print(\"Iteration: %d, loss: %4.2f\" %(i, err_all[-1]))\n",
        "\n",
        "    w = weightupdate(w,djdw,lr)\n",
        "\n",
        "  return w, err_all, w_all\n",
        "\n"
      ]
    },
    {
      "cell_type": "code",
      "execution_count": 45,
      "metadata": {
        "colab": {
          "base_uri": "https://localhost:8080/"
        },
        "id": "sl0R6Ba5rgoo",
        "outputId": "a1ec9b75-91f9-409d-ef7a-f0d02b2e9487"
      },
      "outputs": [
        {
          "name": "stderr",
          "output_type": "stream",
          "text": [
            "test_gd (__main__.TestGD) ... "
          ]
        },
        {
          "name": "stdout",
          "output_type": "stream",
          "text": [
            "\n",
            "Iteration: 0, loss: 18530.73\n",
            "Iteration: 100, loss: 114.18\n",
            "Iteration: 200, loss: 74.95\n",
            "Iteration: 300, loss: 49.59\n",
            "Iteration: 400, loss: 33.21\n",
            "Iteration: 500, loss: 22.62\n",
            "Iteration: 600, loss: 15.78\n",
            "Iteration: 700, loss: 11.35\n",
            "Iteration: 800, loss: 8.49\n",
            "Iteration: 900, loss: 6.65\n",
            "Iteration: 1000, loss: 5.45\n",
            "Iteration: 1100, loss: 4.68\n",
            "Iteration: 1200, loss: 4.18\n",
            "Iteration: 1300, loss: 3.86\n",
            "Iteration: 1400, loss: 3.65\n",
            "Iteration: 1500, loss: 3.52\n",
            "Iteration: 1600, loss: 3.43\n",
            "Iteration: 1700, loss: 3.37\n",
            "Iteration: 1800, loss: 3.34\n",
            "Iteration: 1900, loss: 3.31\n"
          ]
        },
        {
          "name": "stderr",
          "output_type": "stream",
          "text": [
            "ok\n",
            "\n",
            "----------------------------------------------------------------------\n",
            "Ran 1 test in 0.043s\n",
            "\n",
            "OK\n"
          ]
        },
        {
          "data": {
            "text/plain": [
              "<unittest.main.TestProgram at 0x2588941a070>"
            ]
          },
          "execution_count": 45,
          "metadata": {},
          "output_type": "execute_result"
        }
      ],
      "source": [
        "class TestGD(unittest.TestCase):\n",
        "\n",
        "  def test_gd(self):\n",
        "    train_matrix = X_train\n",
        "    label_vector = y_train\n",
        "    expected_weight_vector = np.array([4.,3.])\n",
        "\n",
        "    w,err_all, w_all = gradient_descent(train_matrix, label_vector, lr = 0.0001, num_epochs = 2000)\n",
        "    # print(estimated_weight_vec)\n",
        "    \n",
        "    self.assertEqual(w.shape, (2,))\n",
        "\n",
        "    np.testing.assert_array_almost_equal(\n",
        "        w, expected_weight_vector, decimal = 0)\n",
        "\n",
        "unittest.main(argv = [''], defaultTest = \"TestGD\", verbosity = 2, exit = False)\n"
      ]
    },
    {
      "cell_type": "code",
      "execution_count": 46,
      "metadata": {
        "colab": {
          "base_uri": "https://localhost:8080/"
        },
        "id": "IfJ1qP8jsw36",
        "outputId": "58303fc3-6752-4c36-d8f8-5f44835511e2"
      },
      "outputs": [
        {
          "name": "stdout",
          "output_type": "stream",
          "text": [
            "\n",
            "Iteration: 0, loss: 18530.73\n",
            "Iteration: 100, loss: 232.01\n"
          ]
        }
      ],
      "source": [
        "w, err_all, w_all = gradient_descent(X_train, y_train, lr = 0.00001, num_epochs = 200)"
      ]
    },
    {
      "cell_type": "code",
      "execution_count": 47,
      "metadata": {
        "colab": {
          "base_uri": "https://localhost:8080/",
          "height": 318
        },
        "id": "Rh356f_F7uj8",
        "outputId": "d61d91bb-b662-4419-e162-989940602453"
      },
      "outputs": [
        {
          "data": {
            "image/png": "[encoded data removed]",
            "text/plain": [
              "<Figure size 432x288 with 1 Axes>"
            ]
          },
          "metadata": {},
          "output_type": "display_data"
        }
      ],
      "source": [
        "X_b = np.c_[np.ones((X.shape[0], 1)), X]   #add_dummy\n",
        "X_new = np.array([[0], [10]])\n",
        "X_new_b = np.c_[np.ones((2,1)), X_new]     #add_dummy\n",
        "\n",
        "for j in range(0, len(w_all)):\n",
        "  if j%10==0: continue\n",
        "  y_hat = predict(X_new_b, w_all[j])\n",
        "  style = 'b-' if j>0 else \"r--\"\n",
        "  plt.plot(X_new_b[:,1], y_hat, style)\n",
        "\n",
        "plt.plot(X_train[:,1], y_train, \"b.\")\n",
        "plt.xlabel(\"$x_1$\", fontsize = 18)\n",
        "plt.ylabel(\"$y$\", fontsize = 18)\n",
        "plt.title(\"GD\", fontsize = 18)\n",
        "plt.axis([1,10,0,40])\n",
        "plt.show()"
      ]
    },
    {
      "cell_type": "code",
      "execution_count": 48,
      "metadata": {
        "colab": {
          "base_uri": "https://localhost:8080/"
        },
        "id": "6D2wYHnk8K4g",
        "outputId": "23951d77-6ee2-4e08-83ec-f65196f17005"
      },
      "outputs": [
        {
          "data": {
            "text/plain": [
              "array([[ 1.,  0.],\n",
              "       [ 1., 10.]])"
            ]
          },
          "execution_count": 48,
          "metadata": {},
          "output_type": "execute_result"
        }
      ],
      "source": [
        " X_new_b"
      ]
    },
    {
      "cell_type": "code",
      "execution_count": 49,
      "metadata": {
        "id": "hcSgeniI-OXV"
      },
      "outputs": [],
      "source": [
        "def plot_learning_curve(err_all):\n",
        "    plt.plot(err_all)\n",
        "    plt.xlabel(\"iter#\")\n",
        "    plt.ylabel(\"loss\")"
      ]
    },
    {
      "cell_type": "code",
      "execution_count": 50,
      "metadata": {},
      "outputs": [
        {
          "name": "stdout",
          "output_type": "stream",
          "text": [
            "\n",
            "Iteration: 0, loss: 18530.73\n",
            "Iteration: 100, loss: 114.18\n",
            "Iteration: 200, loss: 74.95\n",
            "Iteration: 300, loss: 49.59\n",
            "Iteration: 400, loss: 33.21\n",
            "Iteration: 500, loss: 22.62\n",
            "Iteration: 600, loss: 15.78\n",
            "Iteration: 700, loss: 11.35\n",
            "Iteration: 800, loss: 8.49\n",
            "Iteration: 900, loss: 6.65\n",
            "Iteration: 1000, loss: 5.45\n",
            "Iteration: 1100, loss: 4.68\n",
            "Iteration: 1200, loss: 4.18\n",
            "Iteration: 1300, loss: 3.86\n",
            "Iteration: 1400, loss: 3.65\n",
            "Iteration: 1500, loss: 3.52\n",
            "Iteration: 1600, loss: 3.43\n",
            "Iteration: 1700, loss: 3.37\n",
            "Iteration: 1800, loss: 3.34\n",
            "Iteration: 1900, loss: 3.31\n"
          ]
        },
        {
          "data": {
            "image/png": "[encoded data removed]",
            "text/plain": [
              "<Figure size 432x288 with 1 Axes>"
            ]
          },
          "metadata": {},
          "output_type": "display_data"
        }
      ],
      "source": [
        "w,err_all,w_all = gradient_descent(X_train, y_train, lr = 0.0001, num_epochs = 2000)\n",
        "plot_learning_curve(err_all)"
      ]
    },
    {
      "cell_type": "markdown",
      "metadata": {},
      "source": [
        "Learning rate and convergence"
      ]
    },
    {
      "cell_type": "code",
      "execution_count": 51,
      "metadata": {},
      "outputs": [
        {
          "name": "stdout",
          "output_type": "stream",
          "text": [
            "\n",
            "Iteration: 0, loss: 18530.73\n",
            "Iteration: 100, loss: 10679.76\n",
            "Iteration: 200, loss: 6186.09\n",
            "Iteration: 300, loss: 3613.90\n",
            "Iteration: 400, loss: 2141.45\n",
            "Iteration: 500, loss: 1298.40\n",
            "Iteration: 600, loss: 815.59\n",
            "Iteration: 700, loss: 538.96\n",
            "Iteration: 800, loss: 380.32\n",
            "Iteration: 900, loss: 289.22\n",
            "Iteration: 1000, loss: 236.78\n",
            "Iteration: 1100, loss: 206.46\n",
            "Iteration: 1200, loss: 188.80\n",
            "Iteration: 1300, loss: 178.40\n",
            "Iteration: 1400, loss: 172.14\n",
            "Iteration: 1500, loss: 168.26\n",
            "Iteration: 1600, loss: 165.74\n",
            "Iteration: 1700, loss: 164.01\n",
            "Iteration: 1800, loss: 162.72\n",
            "Iteration: 1900, loss: 161.69\n"
          ]
        },
        {
          "data": {
            "text/plain": [
              "Text(0.5, 1.0, '1e-6 lr')"
            ]
          },
          "execution_count": 51,
          "metadata": {},
          "output_type": "execute_result"
        },
        {
          "data": {
            "image/png": "[encoded data removed]",
            "text/plain": [
              "<Figure size 432x288 with 1 Axes>"
            ]
          },
          "metadata": {},
          "output_type": "display_data"
        }
      ],
      "source": [
        "w,err_all,w_all = gradient_descent(X_train, y_train, lr = 1e-6, num_epochs = 2000)\n",
        "plot_learning_curve(err_all)\n",
        "plt.title(\"1e-6 lr\")"
      ]
    },
    {
      "cell_type": "code",
      "execution_count": 52,
      "metadata": {},
      "outputs": [
        {
          "name": "stdout",
          "output_type": "stream",
          "text": [
            "\n",
            "Iteration: 0, loss: 18530.73\n",
            "Iteration: 100, loss: 114.18\n",
            "Iteration: 200, loss: 74.95\n",
            "Iteration: 300, loss: 49.59\n",
            "Iteration: 400, loss: 33.21\n",
            "Iteration: 500, loss: 22.62\n",
            "Iteration: 600, loss: 15.78\n",
            "Iteration: 700, loss: 11.35\n",
            "Iteration: 800, loss: 8.49\n",
            "Iteration: 900, loss: 6.65\n",
            "Iteration: 1000, loss: 5.45\n",
            "Iteration: 1100, loss: 4.68\n",
            "Iteration: 1200, loss: 4.18\n",
            "Iteration: 1300, loss: 3.86\n",
            "Iteration: 1400, loss: 3.65\n",
            "Iteration: 1500, loss: 3.52\n",
            "Iteration: 1600, loss: 3.43\n",
            "Iteration: 1700, loss: 3.37\n",
            "Iteration: 1800, loss: 3.34\n",
            "Iteration: 1900, loss: 3.31\n"
          ]
        },
        {
          "data": {
            "text/plain": [
              "Text(0.5, 1.0, '1e-4 lr')"
            ]
          },
          "execution_count": 52,
          "metadata": {},
          "output_type": "execute_result"
        },
        {
          "data": {
            "image/png": "[encoded data removed]",
            "text/plain": [
              "<Figure size 432x288 with 1 Axes>"
            ]
          },
          "metadata": {},
          "output_type": "display_data"
        }
      ],
      "source": [
        "w,err_all,w_all = gradient_descent(X_train, y_train, lr = 1e-4, num_epochs = 2000)\n",
        "plot_learning_curve(err_all)\n",
        "plt.title(\"1e-4 lr\")"
      ]
    },
    {
      "cell_type": "code",
      "execution_count": 53,
      "metadata": {},
      "outputs": [
        {
          "name": "stdout",
          "output_type": "stream",
          "text": [
            "\n",
            "Iteration: 0, loss: 18530.73\n",
            "Iteration: 100, loss:  inf\n",
            "Iteration: 200, loss:  nan\n",
            "Iteration: 300, loss:  nan\n",
            "Iteration: 400, loss:  nan\n",
            "Iteration: 500, loss:  nan\n",
            "Iteration: 600, loss:  nan\n",
            "Iteration: 700, loss:  nan\n",
            "Iteration: 800, loss:  nan\n",
            "Iteration: 900, loss:  nan\n",
            "Iteration: 1000, loss:  nan\n",
            "Iteration: 1100, loss:  nan\n",
            "Iteration: 1200, loss:  nan\n",
            "Iteration: 1300, loss:  nan\n",
            "Iteration: 1400, loss:  nan\n",
            "Iteration: 1500, loss:  nan\n",
            "Iteration: 1600, loss:  nan\n",
            "Iteration: 1700, loss:  nan\n",
            "Iteration: 1800, loss:  nan\n",
            "Iteration: 1900, loss:  nan\n"
          ]
        },
        {
          "name": "stderr",
          "output_type": "stream",
          "text": [
            "<ipython-input-31-04d6d4f60cd0>:4: RuntimeWarning: overflow encountered in matmul\n",
            "  return 0.5*(np.transpose(e)@e)\n",
            "<ipython-input-40-ce87ffcaad99>:2: RuntimeWarning: overflow encountered in matmul\n",
            "  return np.transpose(X)@(predict(X,w)-y)\n",
            "<ipython-input-40-ce87ffcaad99>:2: RuntimeWarning: invalid value encountered in matmul\n",
            "  return np.transpose(X)@(predict(X,w)-y)\n",
            "<ipython-input-42-5b4104d5ce6c>:2: RuntimeWarning: invalid value encountered in subtract\n",
            "  return (w - lr*grad)\n"
          ]
        },
        {
          "data": {
            "text/plain": [
              "Text(0.5, 1.0, '0.1 lr')"
            ]
          },
          "execution_count": 53,
          "metadata": {},
          "output_type": "execute_result"
        },
        {
          "data": {
            "image/png": "[encoded data removed]",
            "text/plain": [
              "<Figure size 432x288 with 1 Axes>"
            ]
          },
          "metadata": {},
          "output_type": "display_data"
        }
      ],
      "source": [
        "#Divergence\n",
        "w,err_all,w_all = gradient_descent(X_train, y_train, lr = 0.1, num_epochs = 2000)\n",
        "plot_learning_curve(err_all)\n",
        "plt.title(\"0.1 lr\")"
      ]
    },
    {
      "cell_type": "markdown",
      "metadata": {},
      "source": [
        "## **Optimization and Evaluation**"
      ]
    },
    {
      "cell_type": "code",
      "execution_count": 54,
      "metadata": {},
      "outputs": [],
      "source": [
        "X,y = generate_data(100)\n",
        "X_train, X_test, y_train, y_test = preprocess(X,y) "
      ]
    },
    {
      "cell_type": "markdown",
      "metadata": {},
      "source": [
        "MGDB"
      ]
    },
    {
      "cell_type": "code",
      "execution_count": 55,
      "metadata": {},
      "outputs": [],
      "source": [
        "t0, t1 = 200, 100000\n",
        "def learning_schedule(t):\n",
        "    return t0/(t+t1)"
      ]
    },
    {
      "cell_type": "code",
      "execution_count": 56,
      "metadata": {},
      "outputs": [],
      "source": [
        "def mini_batch_gd(X:np.ndarray, y:np.ndarray, num_inter:int, minibatch_size:int):\n",
        "    w_all = []\n",
        "    err_all = []\n",
        "\n",
        "    w = np.zeros(X.shape[1])   #num of feataures\n",
        "    t = 0\n",
        "\n",
        "    for epoch in range(num_inter):\n",
        "        shuffled_indices = np.random.permutation(X.shape[0])\n",
        "        X_shuffled = X[shuffled_indices]\n",
        "        y_shuffled = y[shuffled_indices]\n",
        "        for i in range(0,X.shape[0], minibatch_size):\n",
        "            t+=1\n",
        "            x1 = X_shuffled[i:i+minibatch_size]\n",
        "            y1 = y_shuffled[i:i+minibatch_size]\n",
        "            err_all.append(loss(x1,y1,w))\n",
        "\n",
        "            gradients = 2/minibatch_size * calc_grad(x1,y1,w)   #why?\n",
        "            lr = learning_schedule(t)\n",
        "            \n",
        "            w = weightupdate(w, gradients, lr)\n",
        "            w_all.append(w)\n",
        "\n",
        "    return w, err_all, w_all\n"
      ]
    },
    {
      "cell_type": "code",
      "execution_count": 57,
      "metadata": {},
      "outputs": [
        {
          "data": {
            "image/png": "[encoded data removed]",
            "text/plain": [
              "<Figure size 432x288 with 1 Axes>"
            ]
          },
          "metadata": {},
          "output_type": "display_data"
        }
      ],
      "source": [
        "w, err_all, w_all = mini_batch_gd(X_train, y_train, 20, 8)\n",
        "plot_learning_curve(err_all)\n"
      ]
    },
    {
      "cell_type": "markdown",
      "metadata": {},
      "source": [
        "SGD"
      ]
    },
    {
      "cell_type": "code",
      "execution_count": 58,
      "metadata": {},
      "outputs": [],
      "source": [
        "def sgd(X:np.ndarray, y:np.ndarray, num_epochs:int):\n",
        "    w_all = []\n",
        "    err_all = []\n",
        "\n",
        "    w = np.zeros(X.shape[1])   #num of feataures\n",
        "    # t = 0\n",
        "\n",
        "    for epoch in range(num_epochs):\n",
        "        for i in range((X.shape[1])):\n",
        "            random_index = np.random.randint(X.shape[0])\n",
        "            xi = X[random_index:random_index+1]\n",
        "            yi = y[random_index:random_index+1]\n",
        "\n",
        "            err_all.append(loss(xi,yi,w))\n",
        "            gradients = calc_grad(xi,yi,w) \n",
        "            lr = learning_schedule(epoch * X.shape[0] + i)\n",
        "\n",
        "            w = weightupdate(w, gradients, lr)\n",
        "            w_all.append(w)\n",
        "\n",
        "    return w, err_all, w_all"
      ]
    },
    {
      "cell_type": "code",
      "execution_count": 59,
      "metadata": {},
      "outputs": [
        {
          "data": {
            "image/png": "[encoded data removed]",
            "text/plain": [
              "<Figure size 432x288 with 1 Axes>"
            ]
          },
          "metadata": {},
          "output_type": "display_data"
        }
      ],
      "source": [
        "w, err_all, w_all = sgd(X_train, y_train, 100)\n",
        "plot_learning_curve(err_all)"
      ]
    }
  ],
  "metadata": {
    "colab": {
      "name": "Linear_regression_components.ipynb",
      "provenance": []
    },
    "kernelspec": {
      "display_name": "Python 3",
      "name": "python3"
    },
    "language_info": {
      "codemirror_mode": {
        "name": "ipython",
        "version": 3
      },
      "file_extension": ".py",
      "mimetype": "text/x-python",
      "name": "python",
      "nbconvert_exporter": "python",
      "pygments_lexer": "ipython3",
      "version": "3.8.8"
    }
  },
  "nbformat": 4,
  "nbformat_minor": 0
}
