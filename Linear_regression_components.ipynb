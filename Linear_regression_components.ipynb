{
  "cells": [
    {
      "cell_type": "markdown",
      "metadata": {
        "id": "B7avkR0L9Sv8"
      },
      "source": [
        "### **Week 2**"
      ]
    },
    {
      "cell_type": "code",
      "execution_count": 1,
      "metadata": {
        "id": "jNFooViD-Fz6"
      },
      "outputs": [],
      "source": [
        "import numpy as np"
      ]
    },
    {
      "cell_type": "code",
      "execution_count": 2,
      "metadata": {
        "colab": {
          "base_uri": "https://localhost:8080/"
        },
        "id": "mULOyIu4BSba",
        "outputId": "f8841ff4-b053-4b12-fec8-6b487fa1bad5"
      },
      "outputs": [
        {
          "name": "stdout",
          "output_type": "stream",
          "text": [
            "Requirement already satisfied: IPython in /usr/local/lib/python3.7/dist-packages (5.5.0)\n",
            "Requirement already satisfied: pygments in /usr/local/lib/python3.7/dist-packages (from IPython) (2.6.1)\n",
            "Requirement already satisfied: decorator in /usr/local/lib/python3.7/dist-packages (from IPython) (4.4.2)\n",
            "Requirement already satisfied: pexpect in /usr/local/lib/python3.7/dist-packages (from IPython) (4.8.0)\n",
            "Requirement already satisfied: prompt-toolkit<2.0.0,>=1.0.4 in /usr/local/lib/python3.7/dist-packages (from IPython) (1.0.18)\n",
            "Requirement already satisfied: traitlets>=4.2 in /usr/local/lib/python3.7/dist-packages (from IPython) (5.1.1)\n",
            "Requirement already satisfied: pickleshare in /usr/local/lib/python3.7/dist-packages (from IPython) (0.7.5)\n",
            "Requirement already satisfied: setuptools>=18.5 in /usr/local/lib/python3.7/dist-packages (from IPython) (57.4.0)\n",
            "Requirement already satisfied: simplegeneric>0.8 in /usr/local/lib/python3.7/dist-packages (from IPython) (0.8.1)\n",
            "Requirement already satisfied: wcwidth in /usr/local/lib/python3.7/dist-packages (from prompt-toolkit<2.0.0,>=1.0.4->IPython) (0.2.5)\n",
            "Requirement already satisfied: six>=1.9.0 in /usr/local/lib/python3.7/dist-packages (from prompt-toolkit<2.0.0,>=1.0.4->IPython) (1.15.0)\n",
            "Requirement already satisfied: ptyprocess>=0.5 in /usr/local/lib/python3.7/dist-packages (from pexpect->IPython) (0.7.0)\n"
          ]
        }
      ],
      "source": [
        "!pip install IPython"
      ]
    },
    {
      "cell_type": "markdown",
      "metadata": {
        "id": "gmSsFjeoBx7n"
      },
      "source": [
        "## **Training** Data"
      ]
    },
    {
      "cell_type": "code",
      "execution_count": 3,
      "metadata": {
        "id": "D3AhGzJDBznp"
      },
      "outputs": [],
      "source": [
        "w1 = 3\n",
        "w0 = 4\n",
        "n = 100\n",
        "\n",
        "X = 10 * np.random.rand(n,)\n",
        "\n",
        "y = w0+w1*X+np.random.rand(n,)"
      ]
    },
    {
      "cell_type": "code",
      "execution_count": 4,
      "metadata": {
        "colab": {
          "base_uri": "https://localhost:8080/"
        },
        "id": "rUMLT07bCIO5",
        "outputId": "68241c83-cce4-4088-e0c1-a55497d9d730"
      },
      "outputs": [
        {
          "name": "stdout",
          "output_type": "stream",
          "text": [
            "(100,) (100,)\n"
          ]
        }
      ],
      "source": [
        "print(X.shape,y.shape)"
      ]
    },
    {
      "cell_type": "code",
      "execution_count": 5,
      "metadata": {
        "id": "u9npHjxfCISJ"
      },
      "outputs": [],
      "source": [
        "from sklearn.model_selection import train_test_split\n",
        "\n",
        "X_train, X_test, y_train, y_test = train_test_split(X,y,test_size = 0.2, random_state = 42)"
      ]
    },
    {
      "cell_type": "code",
      "execution_count": 6,
      "metadata": {
        "colab": {
          "base_uri": "https://localhost:8080/"
        },
        "id": "PepUDKqcCIVB",
        "outputId": "aa887207-1a62-4e5e-83d6-ac5cac83dbc1"
      },
      "outputs": [
        {
          "name": "stdout",
          "output_type": "stream",
          "text": [
            "(80,) (80,) (20,) (20,)\n"
          ]
        }
      ],
      "source": [
        "print(X_train.shape, y_train.shape, X_test.shape, y_test.shape)"
      ]
    },
    {
      "cell_type": "code",
      "execution_count": 7,
      "metadata": {
        "colab": {
          "base_uri": "https://localhost:8080/"
        },
        "id": "wxp7utvbCIXh",
        "outputId": "2e89e977-c6b9-4846-998e-e50cba1ee960"
      },
      "outputs": [
        {
          "data": {
            "text/plain": [
              "array([1.93671002, 6.69104289, 0.50317535, 0.95620299, 3.579985  ])"
            ]
          },
          "execution_count": 7,
          "metadata": {},
          "output_type": "execute_result"
        }
      ],
      "source": [
        "X_train[:5]"
      ]
    },
    {
      "cell_type": "code",
      "execution_count": 8,
      "metadata": {
        "colab": {
          "base_uri": "https://localhost:8080/"
        },
        "id": "L4JBqdT2CIaN",
        "outputId": "3059de81-3e28-4a3e-983d-8d7eb84dde45"
      },
      "outputs": [
        {
          "data": {
            "text/plain": [
              "array([10.59423021, 24.20123996,  5.67004178,  7.04034709, 14.94554041])"
            ]
          },
          "execution_count": 8,
          "metadata": {},
          "output_type": "execute_result"
        }
      ],
      "source": [
        "y_train[:5]"
      ]
    },
    {
      "cell_type": "code",
      "execution_count": 12,
      "metadata": {
        "colab": {
          "base_uri": "https://localhost:8080/",
          "height": 535
        },
        "id": "iQMungMQCIcq",
        "outputId": "8d508585-a522-403e-c41e-78d3357da68d"
      },
      "outputs": [
        {
          "data": {
            "image/png": "[encoded data removed]",
            "text/plain": [
              "<Figure size 576x576 with 1 Axes>"
            ]
          },
          "metadata": {},
          "output_type": "display_data"
        }
      ],
      "source": [
        "import matplotlib.pyplot as plt\n",
        "import seaborn as sns\n",
        "\n",
        "\n",
        "sns.set_style(\"white\")\n",
        "f = plt.figure(figsize = (8,8))\n",
        "sns.set_context(\"notebook\", font_scale=1.5, rc={\"lines.linewidth\":2.5})\n",
        "\n",
        "plt.plot(X_train,y_train,\"b.\")\n",
        "plt.title(\"Data points\")\n",
        "plt.grid(True)\n",
        "plt.xlabel(\"$x_1$\", fontsize = 18)\n",
        "plt.ylabel(\"$y$\", fontsize = 18)\n",
        "plt.axis([0,10,0,40])\n",
        "\n",
        "plt.show()\n",
        "\n"
      ]
    },
    {
      "cell_type": "code",
      "execution_count": 13,
      "metadata": {
        "id": "0dgvZcsoCIfx"
      },
      "outputs": [],
      "source": [
        "def add_dummy(x):\n",
        "  return np.column_stack((np.ones(x.shape[0]),x))  #input - tuple"
      ]
    },
    {
      "cell_type": "code",
      "execution_count": 14,
      "metadata": {
        "id": "gamRQT34dudh"
      },
      "outputs": [],
      "source": [
        "np.column_stack?"
      ]
    },
    {
      "cell_type": "markdown",
      "metadata": {
        "id": "KWrpAlypeAih"
      },
      "source": [
        "Testing"
      ]
    },
    {
      "cell_type": "code",
      "execution_count": 15,
      "metadata": {
        "colab": {
          "base_uri": "https://localhost:8080/"
        },
        "id": "G6vHN4STDzDF",
        "outputId": "b189028b-5903-4664-b714-315075a80911"
      },
      "outputs": [
        {
          "name": "stderr",
          "output_type": "stream",
          "text": [
            "test_dummy (__main__.TestDummy) ... ok\n",
            "\n",
            "----------------------------------------------------------------------\n",
            "Ran 1 test in 0.007s\n",
            "\n",
            "OK\n"
          ]
        },
        {
          "data": {
            "text/plain": [
              "<unittest.main.TestProgram at 0x7f7b55c02e50>"
            ]
          },
          "execution_count": 15,
          "metadata": {},
          "output_type": "execute_result"
        }
      ],
      "source": [
        "import unittest\n",
        "\n",
        "class TestDummy(unittest.TestCase):\n",
        "  def test_dummy(self):\n",
        "    train_matrix = np.array([[3,2,5],[9,4,7]])\n",
        "    train_matrix_with_dummy = add_dummy(train_matrix)\n",
        "\n",
        "    self.assertEqual(train_matrix_with_dummy.shape,(2,4))\n",
        "\n",
        "    np.testing.assert_array_equal(train_matrix_with_dummy,np.array([[1,3,2,5],[1,9,4,7]]))\n",
        "\n",
        "unittest.main(argv=[''], defaultTest = 'TestDummy', verbosity  = 2, exit = False)\n",
        "\n",
        "\n"
      ]
    },
    {
      "cell_type": "code",
      "execution_count": 16,
      "metadata": {
        "colab": {
          "base_uri": "https://localhost:8080/"
        },
        "id": "htOn6AMODzGI",
        "outputId": "50476267-659d-4fb3-92a5-ef9a48e498a3"
      },
      "outputs": [
        {
          "data": {
            "text/plain": [
              "array([[1., 3., 4.],\n",
              "       [1., 9., 7.]])"
            ]
          },
          "execution_count": 16,
          "metadata": {},
          "output_type": "execute_result"
        }
      ],
      "source": [
        "add_dummy(np.array([[3,4],[9,7]]))"
      ]
    },
    {
      "cell_type": "code",
      "execution_count": 17,
      "metadata": {
        "colab": {
          "base_uri": "https://localhost:8080/"
        },
        "id": "PvHZ0Yh8DzIq",
        "outputId": "88cb9dfd-ec49-407b-dcc8-3008a8ddc737"
      },
      "outputs": [
        {
          "name": "stdout",
          "output_type": "stream",
          "text": [
            "Before adding dummy [1.93671002 6.69104289 0.50317535 0.95620299 3.579985  ]\n",
            "After adding dummy\n",
            "[[1.         1.93671002]\n",
            " [1.         6.69104289]\n",
            " [1.         0.50317535]\n",
            " [1.         0.95620299]\n",
            " [1.         3.579985  ]]\n"
          ]
        }
      ],
      "source": [
        "print(\"Before adding dummy\",X_train[:5])\n",
        "print(\"After adding dummy\")\n",
        "\n",
        "X_train_with_dummy = add_dummy(X_train)\n",
        "print(X_train_with_dummy[:5])"
      ]
    },
    {
      "cell_type": "markdown",
      "metadata": {
        "id": "OhkJaBRMfTg5"
      },
      "source": [
        "### **Model**"
      ]
    },
    {
      "cell_type": "code",
      "execution_count": 18,
      "metadata": {
        "id": "N0lsqGhbDzLh"
      },
      "outputs": [],
      "source": [
        "def predict(X,w):\n",
        "\n",
        "  assert X.shape[-1]==w.shape[0]\n",
        "  return X@w"
      ]
    },
    {
      "cell_type": "code",
      "execution_count": 19,
      "metadata": {
        "colab": {
          "base_uri": "https://localhost:8080/"
        },
        "id": "BT8fmAZ-DzQc",
        "outputId": "60ca8fcb-dbbd-44ad-bea0-783e74aaf183"
      },
      "outputs": [
        {
          "name": "stderr",
          "output_type": "stream",
          "text": [
            "test_predict (__main__.TestPredict) ... ok\n",
            "\n",
            "----------------------------------------------------------------------\n",
            "Ran 1 test in 0.003s\n",
            "\n",
            "OK\n"
          ]
        },
        {
          "data": {
            "text/plain": [
              "<unittest.main.TestProgram at 0x7f7b55b853d0>"
            ]
          },
          "execution_count": 19,
          "metadata": {},
          "output_type": "execute_result"
        }
      ],
      "source": [
        "import unittest\n",
        "class TestPredict(unittest.TestCase):\n",
        "\n",
        "  def test_predict(self):\n",
        "\n",
        "    train_matrix_0 = np.array([[3,2,5],[9,4,7]])\n",
        "    train_matrix = add_dummy(train_matrix_0)\n",
        "    weight_vector = np.array([1,1,1,1])\n",
        "    expected_label_vector = np.array([11,21])\n",
        "\n",
        "    predicted_label_vec = predict(train_matrix,weight_vector)\n",
        "\n",
        "    self.assertEqual(predicted_label_vec.shape, (2,))\n",
        "\n",
        "    np.testing.assert_array_equal(predicted_label_vec, expected_label_vector)\n",
        "\n",
        "unittest.main(argv = [''], defaultTest = \"TestPredict\", verbosity = 2, exit = False)"
      ]
    },
    {
      "cell_type": "code",
      "execution_count": 20,
      "metadata": {
        "id": "IzX4ItHQtXvV"
      },
      "outputs": [],
      "source": [
        "def generate_data(n):\n",
        "  w1 = 3\n",
        "  w0 = 4\n",
        "\n",
        "  X = 10 * np.random.rand(n,)\n",
        "\n",
        "  y = w0+w1*X+np.random.rand(n,)\n",
        "\n",
        "  return X,y"
      ]
    },
    {
      "cell_type": "code",
      "execution_count": 21,
      "metadata": {
        "id": "aLgm8pqBDzTq"
      },
      "outputs": [],
      "source": [
        "\n",
        "\n",
        "w1 = 3\n",
        "w0 = 4\n",
        "n = 100\n",
        "\n",
        "X = 10 * np.random.rand(n,)\n",
        "\n",
        "y = w0+w1*X+np.random.rand(n,)"
      ]
    },
    {
      "cell_type": "code",
      "execution_count": 22,
      "metadata": {
        "id": "TLijNYcep8F0"
      },
      "outputs": [],
      "source": [
        "X_dummy = add_dummy(X)"
      ]
    },
    {
      "cell_type": "code",
      "execution_count": 23,
      "metadata": {
        "id": "ynD3Td9M1OlP"
      },
      "outputs": [],
      "source": [
        "def preprocess(X,y):\n",
        "  X_dummy = add_dummy(X)\n",
        "  return  train_test_split(X_dummy,y,test_size = 0.2, random_state = 42)"
      ]
    },
    {
      "cell_type": "code",
      "execution_count": 24,
      "metadata": {
        "id": "9CE6R_gAqYzV"
      },
      "outputs": [],
      "source": [
        "from sklearn.model_selection import train_test_split\n",
        "\n",
        "X_train, X_test, y_train, y_test = train_test_split(X_dummy,y,test_size = 0.2, random_state = 42)"
      ]
    },
    {
      "cell_type": "code",
      "execution_count": 25,
      "metadata": {
        "colab": {
          "base_uri": "https://localhost:8080/"
        },
        "id": "yzNSwW-fpMZM",
        "outputId": "c6ab24de-06fd-459a-80de-e3e775719c1a"
      },
      "outputs": [
        {
          "data": {
            "text/plain": [
              "array([0.21388722, 0.84941   ])"
            ]
          },
          "execution_count": 25,
          "metadata": {},
          "output_type": "execute_result"
        }
      ],
      "source": [
        "w = np.random.rand(2,)\n",
        "w"
      ]
    },
    {
      "cell_type": "code",
      "execution_count": 26,
      "metadata": {
        "id": "Z7_nAuAmpMb-"
      },
      "outputs": [],
      "source": [
        "y_hat = predict(X_train, w)"
      ]
    },
    {
      "cell_type": "code",
      "execution_count": 27,
      "metadata": {
        "colab": {
          "base_uri": "https://localhost:8080/"
        },
        "id": "8XFWq48WpMfF",
        "outputId": "8ab7933c-bd7e-4680-cee7-dc4848a1832a"
      },
      "outputs": [
        {
          "data": {
            "text/plain": [
              "array([8.35366398, 7.78790483, 7.7745235 , 1.88042648, 5.58889841,\n",
              "       4.25978213, 5.74429023, 5.29997705, 3.56555508, 6.78033109])"
            ]
          },
          "execution_count": 27,
          "metadata": {},
          "output_type": "execute_result"
        }
      ],
      "source": [
        "y_hat[:10]"
      ]
    },
    {
      "cell_type": "code",
      "execution_count": 28,
      "metadata": {
        "colab": {
          "base_uri": "https://localhost:8080/"
        },
        "id": "3tgPZrV9pMhz",
        "outputId": "c01dc30c-f1a3-47a8-b3b0-98b2073075fc"
      },
      "outputs": [
        {
          "data": {
            "text/plain": [
              "array([ 7.16740534, 24.7478926 ,  6.80057292, 25.19820625,  9.45181772,\n",
              "       31.77470207, 13.0757483 , 13.93159298, 16.07498543, 16.73733523])"
            ]
          },
          "execution_count": 28,
          "metadata": {},
          "output_type": "execute_result"
        }
      ],
      "source": [
        "y[:10]"
      ]
    },
    {
      "cell_type": "markdown",
      "metadata": {
        "id": "tVZB7gAbqyn7"
      },
      "source": [
        "Non-vectorized"
      ]
    },
    {
      "cell_type": "code",
      "execution_count": 29,
      "metadata": {
        "id": "GbnjhSGjpMkm"
      },
      "outputs": [],
      "source": [
        "def non_vec(X,w):\n",
        "\n",
        "  y = []\n",
        "  for i in range(0,X.shape[0]):\n",
        "    y_hat_i = 0\n",
        "    for j in range(0,X.shape[-1]):\n",
        "      y_hat_i += X[i][j]*w[j]\n",
        "    y.append(y_hat_i)\n",
        "  return np.array(y)"
      ]
    },
    {
      "cell_type": "code",
      "execution_count": 30,
      "metadata": {
        "colab": {
          "base_uri": "https://localhost:8080/"
        },
        "id": "7_Lssmxeqwk9",
        "outputId": "861056fb-5ba8-4f6c-edeb-489e89a0d2c8"
      },
      "outputs": [
        {
          "name": "stderr",
          "output_type": "stream",
          "text": [
            "test_predict (__main__.TestPredict) ... ok\n",
            "\n",
            "----------------------------------------------------------------------\n",
            "Ran 1 test in 0.003s\n",
            "\n",
            "OK\n"
          ]
        },
        {
          "data": {
            "text/plain": [
              "<unittest.main.TestProgram at 0x7f7b5618ae90>"
            ]
          },
          "execution_count": 30,
          "metadata": {},
          "output_type": "execute_result"
        }
      ],
      "source": [
        "import unittest\n",
        "\n",
        "class TestPredictNonvec(unittest.TestCase):\n",
        "\n",
        "  def test_predict_nonvec(self):\n",
        "    train_matrix_0 = np.array([[3,2,5],[9,4,7]])\n",
        "    train_matrix = add_dummy(train_matrix_0)\n",
        "    weight_vector = np.array([1,1,1,1])\n",
        "    expected_label_vector = np.array([11,21])\n",
        "\n",
        "    predicted_label_vec = non_vec(train_matrix,weight_vector)\n",
        "\n",
        "    self.assertEqual(predicted_label_vec.shape, (2,))\n",
        "\n",
        "    np.testing.assert_array_equal(predicted_label_vec, expected_label_vector)\n",
        "\n",
        "unittest.main(argv = [''], defaultTest = \"TestPredict\", verbosity = 2, exit = False)\n"
      ]
    },
    {
      "cell_type": "markdown",
      "metadata": {
        "id": "L4cy9wzPt57Z"
      },
      "source": [
        "Vectorized vs Nonvectorized"
      ]
    },
    {
      "cell_type": "code",
      "execution_count": 31,
      "metadata": {
        "colab": {
          "base_uri": "https://localhost:8080/"
        },
        "id": "BoReeLOVqwp3",
        "outputId": "185ad98e-2831-4747-f16c-09ecbc26b995"
      },
      "outputs": [
        {
          "name": "stdout",
          "output_type": "stream",
          "text": [
            "Vector time:  0.00010895729064941406\n",
            "Non-Vector time:  0.0002734661102294922\n"
          ]
        }
      ],
      "source": [
        "import time \n",
        "\n",
        "start_time = time.time()\n",
        "y_hat_vecorized = predict(X_train, w)\n",
        "end_time = time.time()\n",
        "print(\"Vector time: \", end_time - start_time)\n",
        "\n",
        "start_time = time.time()\n",
        "y_hat_vecorized = non_vec(X_train, w)\n",
        "end_time = time.time()\n",
        "print(\"Non-Vector time: \", end_time - start_time)"
      ]
    },
    {
      "cell_type": "code",
      "execution_count": 32,
      "metadata": {
        "colab": {
          "base_uri": "https://localhost:8080/"
        },
        "id": "90ucKfPqqwsl",
        "outputId": "6b2d4e5c-c274-4d5c-d283-9f796c1905db"
      },
      "outputs": [
        {
          "name": "stdout",
          "output_type": "stream",
          "text": [
            "Vector time:  0.004649639129638672\n",
            "Non-Vector time:  2.030418872833252\n"
          ]
        }
      ],
      "source": [
        "X,y = generate_data(n = 1000000)\n",
        "X_dummy = add_dummy(X)\n",
        "X_train, X_test, y_train, y_test = train_test_split(X_dummy,y,test_size = 0.2, random_state = 42)\n",
        "\n",
        "start_time = time.time()\n",
        "y_hat_vecorized = predict(X_train, w)\n",
        "end_time = time.time()\n",
        "print(\"Vector time: \", end_time - start_time)\n",
        "\n",
        "start_time = time.time()\n",
        "y_hat_vecorized = non_vec(X_train, w)\n",
        "end_time = time.time()\n",
        "print(\"Non-Vector time: \", end_time - start_time)"
      ]
    },
    {
      "cell_type": "markdown",
      "metadata": {
        "id": "zi4rqWiXuHeS"
      },
      "source": [
        "## **Loss Function**"
      ]
    },
    {
      "cell_type": "code",
      "execution_count": 63,
      "metadata": {
        "id": "CSIlpWP_qwwJ"
      },
      "outputs": [],
      "source": [
        "def loss (X,y,w):\n",
        "  e = predict(X,w) - y\n",
        "  # print(e)\n",
        "  return 0.5*(np.transpose(e)@e)"
      ]
    },
    {
      "cell_type": "code",
      "execution_count": 34,
      "metadata": {
        "colab": {
          "base_uri": "https://localhost:8080/"
        },
        "id": "_10t6ImTpMnF",
        "outputId": "2f675052-ca85-4548-a160-675694189146"
      },
      "outputs": [
        {
          "name": "stderr",
          "output_type": "stream",
          "text": [
            "test_predict_nonvec (__main__.TestLoss) ... "
          ]
        },
        {
          "name": "stdout",
          "output_type": "stream",
          "text": [
            "62.5\n"
          ]
        },
        {
          "name": "stderr",
          "output_type": "stream",
          "text": [
            "ok\n",
            "\n",
            "----------------------------------------------------------------------\n",
            "Ran 1 test in 0.004s\n",
            "\n",
            "OK\n"
          ]
        },
        {
          "data": {
            "text/plain": [
              "<unittest.main.TestProgram at 0x7f7b55b85e10>"
            ]
          },
          "execution_count": 34,
          "metadata": {},
          "output_type": "execute_result"
        }
      ],
      "source": [
        "import unittest\n",
        "\n",
        "class TestLoss(unittest.TestCase):\n",
        "\n",
        "  def test_predict_nonvec(self):\n",
        "    train_matrix_0 = np.array([[3,2,5],[9,4,7]])\n",
        "    train_matrix = add_dummy(train_matrix_0)\n",
        "    weight_vector = np.array([1,1,1,1])\n",
        "    label_vector = np.array([6,11])\n",
        "    expected_loss = np.array([62.5])\n",
        "\n",
        "    loss_val = loss(train_matrix, label_vector, weight_vector)\n",
        "    print(loss_val)\n",
        "\n",
        "    self.assertEqual(loss_val.shape, ())\n",
        "\n",
        "    np.testing.assert_array_equal(loss_val, expected_loss)\n",
        "\n",
        "unittest.main(argv = [''], defaultTest = \"TestLoss\", verbosity = 2, exit = False)\n"
      ]
    },
    {
      "cell_type": "code",
      "execution_count": 35,
      "metadata": {
        "id": "FOOo3ip2pMqP"
      },
      "outputs": [],
      "source": [
        "X,y = generate_data(100)\n",
        "X_train, X_test, y_train, y_test = preprocess(X,y)\n",
        "w = np.random.rand(2,)"
      ]
    },
    {
      "cell_type": "code",
      "execution_count": 36,
      "metadata": {
        "id": "ktEVj1_8DzWU"
      },
      "outputs": [],
      "source": [
        "def visualize_loss_single_feature(X_train, y_train, w):\n",
        "  sns.set_style(\"white\")\n",
        "  f = plt.figure(figsize = (8,8))\n",
        "  sns.set_context(\"notebook\", font_scale=1.5, rc={\"lines.linewidth\":2.5})\n",
        "\n",
        "  print(X_train.shape, y_train[:5])\n",
        "  plt.plot(X_train[:,-1],y_train,\"b.\")\n",
        "  pred = predict(X_train,w)\n",
        "  plt.plot(X_train[:,-1], pred ,\"b.\", color = 'green')\n",
        "  plt.title(\"Loss-vis\")\n",
        "  plt.grid(True)\n",
        "  plt.xlabel(\"$x_1$\", fontsize = 18)\n",
        "  plt.ylabel(\"$y$\", fontsize = 18)\n",
        "  plt.axis([0,10,0,40])\n",
        "\n",
        "  plt.vlines(X_train[:,-1], pred, y_train, colors = 'r', linestyles = 'solid')\n",
        "\n",
        "  plt.show()\n"
      ]
    },
    {
      "cell_type": "code",
      "execution_count": 37,
      "metadata": {
        "colab": {
          "base_uri": "https://localhost:8080/",
          "height": 552
        },
        "id": "z3yZGU0F1vIH",
        "outputId": "c67a94b0-a593-462d-a720-aa342b3fedee"
      },
      "outputs": [
        {
          "name": "stdout",
          "output_type": "stream",
          "text": [
            "(80, 2) [34.4707481   8.52845263 26.92032236 16.73468137  9.50759726]\n"
          ]
        },
        {
          "data": {
            "image/png": "[encoded data removed]",
            "text/plain": [
              "<Figure size 576x576 with 1 Axes>"
            ]
          },
          "metadata": {},
          "output_type": "display_data"
        }
      ],
      "source": [
        "visualize_loss_single_feature(X_train,y_train,w)"
      ]
    },
    {
      "cell_type": "code",
      "execution_count": 38,
      "metadata": {
        "colab": {
          "base_uri": "https://localhost:8080/",
          "height": 552
        },
        "id": "8_JjNUpk1vKz",
        "outputId": "f68f9151-0d53-405c-807a-173e6cc21bac"
      },
      "outputs": [
        {
          "name": "stdout",
          "output_type": "stream",
          "text": [
            "(80, 2) [34.4707481   8.52845263 26.92032236 16.73468137  9.50759726]\n"
          ]
        },
        {
          "data": {
            "image/png": "[encoded data removed]",
            "text/plain": [
              "<Figure size 576x576 with 1 Axes>"
            ]
          },
          "metadata": {},
          "output_type": "display_data"
        }
      ],
      "source": [
        "visualize_loss_single_feature(X_train,y_train,np.array([4,3]))"
      ]
    },
    {
      "cell_type": "markdown",
      "metadata": {
        "id": "xqGvCAfgmuEA"
      },
      "source": [
        "## **Optimization**"
      ]
    },
    {
      "cell_type": "code",
      "execution_count": 72,
      "metadata": {
        "id": "dqxP78OXlyH5"
      },
      "outputs": [],
      "source": [
        "X,y = generate_data(100)\n",
        "X_train, X_test, y_train, y_test = preprocess(X,y)"
      ]
    },
    {
      "cell_type": "markdown",
      "metadata": {
        "id": "HGwoehbvm7Sa"
      },
      "source": [
        "Normal equation"
      ]
    },
    {
      "cell_type": "code",
      "execution_count": 73,
      "metadata": {
        "id": "65L5bCxrm6AO"
      },
      "outputs": [],
      "source": [
        "def normal_eq(X,y):\n",
        "  # returns weight vec\n",
        "  return np.linalg.pinv(X)@y     #pseudoiverse of X"
      ]
    },
    {
      "cell_type": "code",
      "execution_count": 74,
      "metadata": {
        "colab": {
          "base_uri": "https://localhost:8080/"
        },
        "id": "jhZ39prqnOTk",
        "outputId": "f29d1512-780d-4282-a767-6b12c544765a"
      },
      "outputs": [
        {
          "name": "stderr",
          "output_type": "stream",
          "text": [
            "test_predict_nonvec (__main__.TestNormal) ... "
          ]
        },
        {
          "name": "stdout",
          "output_type": "stream",
          "text": [
            "[4.56243353 2.98928454]\n"
          ]
        },
        {
          "name": "stderr",
          "output_type": "stream",
          "text": [
            "ok\n",
            "\n",
            "----------------------------------------------------------------------\n",
            "Ran 1 test in 0.005s\n",
            "\n",
            "OK\n"
          ]
        },
        {
          "data": {
            "text/plain": [
              "<unittest.main.TestProgram at 0x7f7b48da2a10>"
            ]
          },
          "execution_count": 74,
          "metadata": {},
          "output_type": "execute_result"
        }
      ],
      "source": [
        "import unittest\n",
        "\n",
        "class TestNormal(unittest.TestCase):\n",
        "\n",
        "  def test_predict_nonvec(self):\n",
        "    train_matrix = X_train\n",
        "    label_vector = y_train\n",
        "    expected_weight_vector = np.array([4.,3.])\n",
        "\n",
        "    estimated_weight_vec = normal_eq(train_matrix, label_vector)\n",
        "    print(estimated_weight_vec)\n",
        "    \n",
        "    self.assertEqual(estimated_weight_vec.shape, (2,))\n",
        "\n",
        "    np.testing.assert_array_almost_equal(\n",
        "        estimated_weight_vec, expected_weight_vector, decimal = 0)\n",
        "\n",
        "unittest.main(argv = [''], defaultTest = \"TestNormal\", verbosity = 2, exit = False)\n"
      ]
    },
    {
      "cell_type": "markdown",
      "metadata": {
        "id": "JccaZl2YofhY"
      },
      "source": [
        "Gradient Descent"
      ]
    },
    {
      "cell_type": "code",
      "execution_count": 75,
      "metadata": {
        "id": "YZEeLYSSoNqO"
      },
      "outputs": [],
      "source": [
        "def calc_grad(X,y,w):\n",
        "  return np.transpose(X)@(predict(X,w)-y)\n",
        "  \n"
      ]
    },
    {
      "cell_type": "code",
      "execution_count": 76,
      "metadata": {
        "colab": {
          "base_uri": "https://localhost:8080/"
        },
        "id": "o3ZVjkNVov3h",
        "outputId": "171a99de-ed9e-46e2-9105-f1ca2aaf8fc9"
      },
      "outputs": [
        {
          "name": "stderr",
          "output_type": "stream",
          "text": [
            "test_grad (__main__.TestGrad) ... ok\n",
            "\n",
            "----------------------------------------------------------------------\n",
            "Ran 1 test in 0.003s\n",
            "\n",
            "OK\n"
          ]
        },
        {
          "data": {
            "text/plain": [
              "<unittest.main.TestProgram at 0x7f7b48ea3c10>"
            ]
          },
          "execution_count": 76,
          "metadata": {},
          "output_type": "execute_result"
        }
      ],
      "source": [
        "class TestGrad(unittest.TestCase):\n",
        "\n",
        "  def test_grad(self):\n",
        "    train_matrix_0 = np.array([[3,2,5],[9,4,7]])\n",
        "    train_matrix = add_dummy(train_matrix_0)\n",
        "    weight_vector = np.array([1,1,1,1])\n",
        "    label_vector = np.array([6,11])\n",
        "    expected_grad = np.array([15, 105, 50, 95])\n",
        "\n",
        "    grad = calc_grad(train_matrix, label_vector, weight_vector)\n",
        "    # print(loss_val)\n",
        "\n",
        "    self.assertEqual(grad.shape, (4,))\n",
        "\n",
        "    np.testing.assert_array_equal(grad, expected_grad)\n",
        "\n",
        "unittest.main(argv = [''], defaultTest = \"TestGrad\", verbosity = 2, exit = False)\n"
      ]
    },
    {
      "cell_type": "markdown",
      "metadata": {
        "id": "AgdR4pjDpdTC"
      },
      "source": [
        "Weight Update"
      ]
    },
    {
      "cell_type": "code",
      "execution_count": 77,
      "metadata": {
        "id": "K8bDBzx8pTND"
      },
      "outputs": [],
      "source": [
        "def weightupdate(w, grad, lr):\n",
        "  return (w - lr*grad)"
      ]
    },
    {
      "cell_type": "code",
      "execution_count": 78,
      "metadata": {
        "colab": {
          "base_uri": "https://localhost:8080/"
        },
        "id": "RaVWbl5xplb9",
        "outputId": "31c81889-0d16-4f15-beac-cc51407b4c13"
      },
      "outputs": [
        {
          "name": "stderr",
          "output_type": "stream",
          "text": [
            "test_weight (__main__.TestWeight) ... ok\n",
            "\n",
            "----------------------------------------------------------------------\n",
            "Ran 1 test in 0.003s\n",
            "\n",
            "OK\n"
          ]
        },
        {
          "data": {
            "text/plain": [
              "<unittest.main.TestProgram at 0x7f7b48ebcf90>"
            ]
          },
          "execution_count": 78,
          "metadata": {},
          "output_type": "execute_result"
        }
      ],
      "source": [
        "class TestWeight(unittest.TestCase):\n",
        "\n",
        "  def test_weight(self):\n",
        "    # train_matrix_0 = np.array([[3,2,5],[9,4,7]])\n",
        "    # train_matrix = add_dummy(train_matrix_0)\n",
        "    weight_vector = np.array([1,1,1,1])\n",
        "    # label_vector = np.array([6,11])\n",
        "    grad_vec = np.array([15, 105, 50, 95])\n",
        "    expected_w = np.array([0.985, 0.895, 0.95, 0.905])\n",
        "\n",
        "    w_new = weightupdate(weight_vector, grad_vec, 0.001)\n",
        "    # print(loss_val)\n",
        "\n",
        "    self.assertEqual(w_new.shape, (4,))\n",
        "\n",
        "    np.testing.assert_array_equal(w_new, expected_w)\n",
        "\n",
        "unittest.main(argv = [''], defaultTest = \"TestWeight\", verbosity = 2, exit = False)\n"
      ]
    },
    {
      "cell_type": "code",
      "execution_count": 84,
      "metadata": {
        "id": "x930xonBqMFq"
      },
      "outputs": [],
      "source": [
        "def gradient_descent(X:np.ndarray,y:np.ndarray, lr:float, num_epochs:int):\n",
        "  w_all = []\n",
        "  err_all = []\n",
        "\n",
        "  w = np.zeros((X.shape[1]))\n",
        "\n",
        "  print()\n",
        "\n",
        "  for i in np.arange(0,num_epochs):\n",
        "    w_all.append(w)\n",
        "\n",
        "    err_all.append(loss(X,y,w))\n",
        "\n",
        "    djdw = calc_grad(X,y,w)\n",
        "\n",
        "    if i%100 == 0:\n",
        "      print(\"Iteration: %d, loss: %4.2f\" %(i, err_all[-1]))\n",
        "\n",
        "    w = weightupdate(w,djdw,lr)\n",
        "\n",
        "  return w, err_all, w_all\n",
        "\n"
      ]
    },
    {
      "cell_type": "code",
      "execution_count": 85,
      "metadata": {
        "colab": {
          "base_uri": "https://localhost:8080/"
        },
        "id": "sl0R6Ba5rgoo",
        "outputId": "a1ec9b75-91f9-409d-ef7a-f0d02b2e9487"
      },
      "outputs": [
        {
          "name": "stderr",
          "output_type": "stream",
          "text": [
            "test_gd (__main__.TestGD) ... "
          ]
        },
        {
          "name": "stdout",
          "output_type": "stream",
          "text": [
            "\n",
            "Iteration: 0, loss: 17375.43\n",
            "Iteration: 100, loss: 123.25\n",
            "Iteration: 200, loss: 79.11\n",
            "Iteration: 300, loss: 51.22\n",
            "Iteration: 400, loss: 33.60\n",
            "Iteration: 500, loss: 22.48\n",
            "Iteration: 600, loss: 15.45\n",
            "Iteration: 700, loss: 11.01\n",
            "Iteration: 800, loss: 8.21\n",
            "Iteration: 900, loss: 6.43\n",
            "Iteration: 1000, loss: 5.32\n",
            "Iteration: 1100, loss: 4.61\n",
            "Iteration: 1200, loss: 4.16\n",
            "Iteration: 1300, loss: 3.88\n",
            "Iteration: 1400, loss: 3.70\n",
            "Iteration: 1500, loss: 3.59\n",
            "Iteration: 1600, loss: 3.52\n",
            "Iteration: 1700, loss: 3.47\n",
            "Iteration: 1800, loss: 3.45\n",
            "Iteration: 1900, loss: 3.43\n"
          ]
        },
        {
          "name": "stderr",
          "output_type": "stream",
          "text": [
            "ok\n",
            "\n",
            "----------------------------------------------------------------------\n",
            "Ran 1 test in 0.045s\n",
            "\n",
            "OK\n"
          ]
        },
        {
          "data": {
            "text/plain": [
              "<unittest.main.TestProgram at 0x7f7b48e23b90>"
            ]
          },
          "execution_count": 85,
          "metadata": {},
          "output_type": "execute_result"
        }
      ],
      "source": [
        "class TestGD(unittest.TestCase):\n",
        "\n",
        "  def test_gd(self):\n",
        "    train_matrix = X_train\n",
        "    label_vector = y_train\n",
        "    expected_weight_vector = np.array([4.,3.])\n",
        "\n",
        "    w,err_all, w_all = gradient_descent(train_matrix, label_vector, lr = 0.0001, num_epochs = 2000)\n",
        "    # print(estimated_weight_vec)\n",
        "    \n",
        "    self.assertEqual(w.shape, (2,))\n",
        "\n",
        "    np.testing.assert_array_almost_equal(\n",
        "        w, expected_weight_vector, decimal = 0)\n",
        "\n",
        "unittest.main(argv = [''], defaultTest = \"TestGD\", verbosity = 2, exit = False)\n"
      ]
    },
    {
      "cell_type": "code",
      "execution_count": 87,
      "metadata": {
        "colab": {
          "base_uri": "https://localhost:8080/"
        },
        "id": "IfJ1qP8jsw36",
        "outputId": "58303fc3-6752-4c36-d8f8-5f44835511e2"
      },
      "outputs": [
        {
          "name": "stdout",
          "output_type": "stream",
          "text": [
            "\n",
            "Iteration: 0, loss: 17375.43\n",
            "Iteration: 100, loss: 272.91\n"
          ]
        }
      ],
      "source": [
        "w, err_all, w_all = gradient_descent(X_train, y_train, lr = 0.00001, num_epochs = 200)"
      ]
    },
    {
      "cell_type": "code",
      "execution_count": 98,
      "metadata": {
        "colab": {
          "base_uri": "https://localhost:8080/",
          "height": 318
        },
        "id": "Rh356f_F7uj8",
        "outputId": "d61d91bb-b662-4419-e162-989940602453"
      },
      "outputs": [
        {
          "data": {
            "image/png": "[encoded data removed]",
            "text/plain": [
              "<Figure size 432x288 with 1 Axes>"
            ]
          },
          "metadata": {},
          "output_type": "display_data"
        }
      ],
      "source": [
        "X_b = np.c_[np.ones((X.shape[0], 1)), X]   #add_dummy\n",
        "X_new = np.array([[0], [10]])\n",
        "X_new_b = np.c_[np.ones((2,1)), X_new]     #add_dummy\n",
        "\n",
        "for j in range(0, len(w_all)):\n",
        "  if j%10==0: continue\n",
        "  y_hat = predict(X_new_b, w_all[j])\n",
        "  style = 'b-' if j>0 else \"r--\"\n",
        "  plt.plot(X_new_b[:,1], y_hat, style)\n",
        "\n",
        "plt.plot(X_train[:,1], y_train, \"b.\")\n",
        "plt.xlabel(\"$x_1$\", fontsize = 18)\n",
        "plt.ylabel(\"$y$\", fontsize = 18)\n",
        "plt.title(\"GD\", fontsize = 18)\n",
        "plt.axis([1,10,0,40])\n",
        "plt.show()"
      ]
    },
    {
      "cell_type": "code",
      "execution_count": 95,
      "metadata": {
        "colab": {
          "base_uri": "https://localhost:8080/"
        },
        "id": "6D2wYHnk8K4g",
        "outputId": "23951d77-6ee2-4e08-83ec-f65196f17005"
      },
      "outputs": [
        {
          "data": {
            "text/plain": [
              "array([[ 1.,  0.],\n",
              "       [ 1., 10.]])"
            ]
          },
          "execution_count": 95,
          "metadata": {},
          "output_type": "execute_result"
        }
      ],
      "source": [
        " X_new_b"
      ]
    },
    {
      "cell_type": "code",
      "execution_count": null,
      "metadata": {
        "id": "hcSgeniI-OXV"
      },
      "outputs": [],
      "source": []
    }
  ],
  "metadata": {
    "colab": {
      "name": "Linear_regression_components.ipynb",
      "provenance": []
    },
    "kernelspec": {
      "display_name": "Python 3",
      "name": "python3"
    },
    "language_info": {
      "name": "python"
    }
  },
  "nbformat": 4,
  "nbformat_minor": 0
}
